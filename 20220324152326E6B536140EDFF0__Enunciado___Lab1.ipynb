{
  "cells": [
    {
      "cell_type": "code",
      "source": [
        "! sudo apt-get install texlive-latex-recommended \n",
        "! sudo apt-get install dvipng texlive-latex-extra texlive-fonts-recommended  \n",
        "! wget http://mirrors.ctan.org/macros/latex/contrib/type1cm.zip \n",
        "! unzip type1cm.zip -d /tmp/type1cm \n",
        "! cd /tmp/type1cm/type1cm/ && sudo latex type1cm.ins\n",
        "! sudo mkdir /usr/share/texmf/tex/latex/type1cm \n",
        "! sudo cp /tmp/type1cm/type1cm/type1cm.sty /usr/share/texmf/tex/latex/type1cm \n",
        "! sudo texhash \n",
        "!apt install cm-super\n",
        "!pip3 install latex"
      ],
      "metadata": {
        "id": "gD5-IwL3nUm8"
      },
      "execution_count": null,
      "outputs": []
    },
    {
      "cell_type": "code",
      "execution_count": 1,
      "metadata": {
        "id": "E9Gsdi2yiRAZ"
      },
      "outputs": [],
      "source": [
        "import numpy as np\n",
        "from scipy.sparse import diags, kron, csr_matrix, csc_matrix, identity\n",
        "from scipy.sparse.linalg import spsolve, norm, inv, eigsh, eigs\n",
        "import matplotlib.pyplot as plt\n",
        "from matplotlib import rc\n",
        "import pandas as pd\n",
        "import seaborn as sns\n",
        "rc('text', usetex=True) # para usar latex en matplotlib"
      ]
    },
    {
      "cell_type": "markdown",
      "metadata": {
        "id": "1hzefwOciRAd"
      },
      "source": [
        "*Universidad de Chile*  \n",
        "*Facultad de Ciencias Físicas y Matemáticas*  \n",
        "*Departamento de Ingeniería Matemática*\n",
        "\n",
        "**MA5307-1 Análisis Numérico de EDP: Teoría y Laboratorio**  \n",
        "**Profesor:** Axel Osses  \n",
        "**Auxiliares:** Emir Chacra y Vicente Salinas"
      ]
    },
    {
      "cell_type": "markdown",
      "metadata": {
        "id": "UKixZtpKiRAe"
      },
      "source": [
        "# Laboratorio 1\n",
        "\n",
        "El objetivo de esta sesión práctica es aprender a resolver EDP’s en 2\n",
        "dimensiones mediante el Método de las Diferencias Finitas.\n",
        "\n",
        "Específicamente se resolverá la ecuación de Poisson en un rectángulo unitario y en un dominio perforado, además se estudiará la aproximación para condiciones de borde en dominios con curvatura"
      ]
    },
    {
      "cell_type": "markdown",
      "metadata": {
        "id": "cHB4zdkqiRAf"
      },
      "source": [
        "# Parte a"
      ]
    },
    {
      "cell_type": "markdown",
      "metadata": {
        "id": "vmW4G3E_iRAg"
      },
      "source": [
        "\n",
        "## Ecuación de Poisson\n",
        "\n",
        "Considere la ecuación dada por\n",
        "\n",
        "$$\n",
        "\\begin{equation}\n",
        "\\left.\n",
        "\\begin{array}[c]{rll}\n",
        "-\\Delta u= & 0 & \\text{sobre }\\Omega=\\left[  0,1\\right]^{2}\\\\\n",
        "u(0,y)=u(1,y)= & 0 & \\text{en }0\\leq y\\leq 1\\\\\n",
        "u(x,0)= & 0 & \\text{en }0\\leq x\\leq 1\\\\\n",
        "u(x,1)= & g(x) & \\text{en }0\\leq x\\leq 1\n",
        "\\end{array}\n",
        "\\right\\} \\quad (1)\n",
        "\\end{equation}\n",
        "$$\n",
        "\n",
        "Sea $N\\in\\mathbb{N}$, considere la aproximación del cuadrado unitario dado por la malla de puntos\n",
        "$$\n",
        "\\Omega_{h}=\\left\\{  \\left(  x_{j},y_{k}\\right)  \\mid j,k\\in\\left\\{\n",
        "0,1,\\ldots,N+1\\right\\}  \\right\\}\n",
        "$$\n",
        "donde $x_{j}=jh$, $y_{k}=kh$, $h=\\dfrac{1}{N+1}$. Se define el operador laplaciano discretizado por 5 puntos como\n",
        "$$\\Delta_{N}u_{j,k}=\\dfrac{1}{h^{2}}\\left(  u_{j+1,k}+u_{j-1,k}+  u_{j,k-1}+u_{j,k+1}-4u_{jk}\\right)$$\n",
        "donde $u_{jk}$ aproxima a $u\\left(x_{j},y_{k}\\right)  $.\n",
        "\n",
        "Tomando $g(x) = \\sin(\\pi x)$, se puede demostrar que la solución única de esta ecuación está dada por\n",
        "\n",
        "$$u\\left(  x,y\\right)  =\\frac{\\sin\\left( \\pi x\\right)   \\sinh\\left( \\pi y\\right)  }{\\sinh\\left(  \\pi\\right) } $$"
      ]
    },
    {
      "cell_type": "markdown",
      "metadata": {
        "id": "GCzr7hShiRAh"
      },
      "source": [
        "**P1.** Escriba dos funciones que calculen $\\boldsymbol{A}_{h}$ y $\\boldsymbol{b}_{h}$ de la forma más simple posible. Las entradas para estas funciones deben ser $N$ y $g$.\n",
        "\n",
        "También escriba una función `solve` que, utilizando estas funciones (y las funciones auxiliares que necesite), entregue la solución aproximada.\n",
        "\n",
        "**Indicación.** Revise la documentación del comando `kron` (disponible a través de `scypy.sparse`)"
      ]
    },
    {
      "cell_type": "code",
      "execution_count": 2,
      "metadata": {
        "id": "hfiWk6KliRAj"
      },
      "outputs": [],
      "source": [
        "def Ah(N):\n",
        "    h = 1/(N+1)\n",
        "\n",
        "    \"Creamos la matriz L4\"\n",
        "    e = np.ones(N)\n",
        "    f = np.ones(N-1)\n",
        "    k = np.array([-f,4*e,-f], dtype= object)\n",
        "    offset = [-1,0,1]\n",
        "    L4 = diags(k,offset)\n",
        "\n",
        "    \"Creamos una matriz por bloques con L4 en la diagonal\"\n",
        "    I = identity(N)\n",
        "    AL4 = kron(I, L4)\n",
        "\n",
        "    \"Creamos una matriz por bloques con -I en la sub y sobrediagonal\"\n",
        "    d0d = np.array([-f,0,-f], dtype= object)\n",
        "    offset = [-1,0,1]\n",
        "    D0D = diags(d0d,offset)\n",
        "    A1 = kron(D0D, I)\n",
        "\n",
        "    \"Obtenemos la matriz A sumando las matrices por bloques generadas\"\n",
        "    A = A1+AL4\n",
        "    return A/(h**2)\n",
        "\n",
        "\n",
        "def bh(N,f,g):\n",
        "    h = 1/(N+1)\n",
        "\n",
        "    \"Inicializamos b como f\"\n",
        "    b = f\n",
        "\n",
        "    \"Para los puntos interiores con k=N le agregamos la condición de borde\"\n",
        "    for i in range(1, N+1):\n",
        "        xi = i*h\n",
        "        b[N*(N-1)+i-1] += g(xi)/(h**2)\n",
        "    return b \n",
        "\n",
        "def solve(N, f, g):\n",
        "      \"\"\"Resuelve el problema del laplaciano en 2D en (0,1)^2, con condiciones\n",
        "      Dirichlet en el borde, usando una grilla uniforme, con tamaño de\n",
        "      paso h=1/(N+1) en x e y.\n",
        "      \"\"\"\n",
        "      A = Ah(N)\n",
        "      b = bh(N, f, g)\n",
        "      u = spsolve(A, b)\n",
        "      return u"
      ]
    },
    {
      "cell_type": "markdown",
      "metadata": {
        "id": "PZyWiVfTiRAk"
      },
      "source": [
        "**P2.** Resuelva la ecuación para $N = 10, 20, 30, 40, 50$. Comente sus resultados."
      ]
    },
    {
      "cell_type": "code",
      "execution_count": 3,
      "metadata": {
        "id": "bfuWn4qViRAl"
      },
      "outputs": [],
      "source": [
        "params = {\"N\": [10, 20, 30, 40, 50]}\n",
        "g = lambda x: np.sin(np.pi*x)\n",
        "u = []\n",
        "\n",
        "\"Resolvemos para cada N dado\"\n",
        "for N in params[\"N\"]:\n",
        "    uN = solve(N, np.zeros(N**2), g)\n",
        "    u.append(uN)"
      ]
    },
    {
      "cell_type": "code",
      "execution_count": 4,
      "metadata": {
        "colab": {
          "base_uri": "https://localhost:8080/",
          "height": 591
        },
        "id": "N9Fuyx2eiRAl",
        "outputId": "5b4b1ded-c260-4199-b44c-f358f5986b8d"
      },
      "outputs": [
        {
          "output_type": "display_data",
          "data": {
            "text/plain": [
              "<Figure size 1080x720 with 6 Axes>"
            ],
            "image/png": "[encoded data removed]"
          },
          "metadata": {}
        }
      ],
      "source": [
        "fig, ax = plt.subplots(2, 3, figsize=(3*5, 2*5))\n",
        "for k in range(len(params[\"N\"])):\n",
        "    N = params[\"N\"][k]\n",
        "    i, j = k//3, k%3\n",
        "    axk = ax[i, j]\n",
        "    bu = np.zeros((N+2, N+2))\n",
        "    for i in range(N+2):\n",
        "        for j in range(N+2):\n",
        "            \n",
        "            \"Puntos interiores\"\n",
        "            if 0<i<N+1:\n",
        "                if 0<j<N+1:\n",
        "                    bu[i, j] += u[k].reshape(N, N)[i-1, j-1]\n",
        "            \n",
        "            \"Agregamos condición de borde en la tapa superior\"\n",
        "            if i == N+1:\n",
        "                h = 1/(N+1)\n",
        "                bu[i, j] += g(j*h)\n",
        "    \n",
        "    axk.imshow(bu, origin=\"lower\")\n",
        "    axk.set_title(f\"Aproximación con N={N}\")\n",
        "    axk.set_xticks([])\n",
        "    axk.set_yticks([])\n",
        "\n",
        "xx = np.linspace(0,1,50)\n",
        "yy = np.linspace(0,1,50)\n",
        "X, Y = np.meshgrid(xx, yy, indexing=\"ij\")\n",
        "u_org = lambda x, y: np.sin(np.pi*x)*np.sinh(np.pi*y)/np.sinh(np.pi)\n",
        "Z = u_org(X, Y)\n",
        "axk = ax[1, 2]\n",
        "axk.imshow(Z.T, origin=\"lower\")\n",
        "axk.set_title(\"Original (N=50)\")\n",
        "axk.set_xticks([])\n",
        "axk.set_yticks([]);"
      ]
    },
    {
      "cell_type": "markdown",
      "metadata": {
        "id": "elZKBCU3iRAm"
      },
      "source": [
        "**P3.** Estudie el condicionamiento en norma $2$ de la Matriz $A_h$.\n",
        "\n",
        "**Indicación.** Sean $p\\in\\left[  1,+\\infty\\right]  $ y $\\boldsymbol{A}\\in\\mathbb{R}^{N\\times N}$. Se define la norma inducida $p$ de $\\boldsymbol{A}$ como\n",
        "$$\n",
        "\\left\\Vert \\boldsymbol{A}\\right\\Vert _{p}=\\sup\\limits_{\\boldsymbol{x\\in}\\mathbb{R}^{N}\\setminus\\left\\{  \\boldsymbol{0}\\right\\}  }\\dfrac{\\left\\Vert\\boldsymbol{Ax}\\right\\Vert _{p}}{\\left\\Vert \\boldsymbol{x}\\right\\Vert_{p}}\n",
        "$$\n",
        "y, si $\\boldsymbol{A}$ es invertible, el número de condición en norma inducida $p$ como $\\operatorname{cond}_{p}\\left(  \\boldsymbol{A}\\right)  =\\left\\Vert\n",
        "\\boldsymbol{A}\\right\\Vert _{p}\\left\\Vert \\boldsymbol{A}^{-1}\\right\\Vert _{p}$.\n",
        "\n",
        "En este caso particular, como $\\boldsymbol{A}_{h}$ es simétrica, el número de condición en la norma $2$ inducida puede calcularse como\n",
        "$$\n",
        "\\operatorname{cond}_{2}\\left(  \\boldsymbol{A}_{h}\\right)  =\\dfrac{\\lambda_{\\max,h}\\left(  \\boldsymbol{A}_{h}\\right)  }{\\lambda_{\\min,h}\\left(\\boldsymbol{A}_{h}\\right)}\n",
        "$$\n",
        "donde $\\lambda_{\\max,h}\\left(  \\boldsymbol{A}_{h}\\right)  =\\max\\left\\{\\left\\vert \\lambda\\right\\vert \\mid\\lambda\\in\\sigma\\left(  \\boldsymbol{A}_{h}\\right)  \\right\\}  $ y $\\lambda_{\\min,h}\\left(  \\boldsymbol{A}_{h}\\right)\n",
        "=\\min\\left\\{  \\left\\vert \\lambda\\right\\vert \\mid\\lambda\\in\\sigma\\left(\\boldsymbol{A}_{h}\\right)  \\right\\}  $."
      ]
    },
    {
      "cell_type": "code",
      "execution_count": 5,
      "metadata": {
        "id": "dS-7ePuCiRAm"
      },
      "outputs": [],
      "source": [
        "def cond_2_sparse(A):\n",
        "    \"\"\"\n",
        "    Calcula el numero de condicionamiento en norma inducida 2\n",
        "    para una matriz sparse simetrica A.\n",
        "    Se obtiene como el valor propio de mayor módulo dividido por el de menor módulo\n",
        "    \n",
        "    Input:\n",
        "    - A matriz sparse simetrica\n",
        "    \n",
        "    Documentacion de eigsh:\n",
        "    https://docs.scipy.org/doc/scipy-0.15.1/reference/generated/scipy.sparse.linalg.eigsh.html\n",
        "    \"\"\"\n",
        "\n",
        "    max = eigsh(A,k=1,which='LM')[0][0]\n",
        "    min = eigsh(A,k=1,which='SM')[0][0]\n",
        "    cond = max/min\n",
        "    return cond"
      ]
    },
    {
      "cell_type": "code",
      "source": [
        "params = {\"N\": [10*(k+1) for k in range(20)]}\n",
        "\n",
        "cond = []\n",
        "for N in params['N']:\n",
        "    cond.append(cond_2_sparse(Ah(N)))"
      ],
      "metadata": {
        "id": "Kcpe0yvkwW1U"
      },
      "execution_count": 6,
      "outputs": []
    },
    {
      "cell_type": "code",
      "source": [
        "fig = plt.figure(figsize=(3*5, 2*5))\n",
        "plt.scatter(params['N'],cond)\n",
        "plt.plot(params['N'],cond)\n",
        "plt.xlabel('$N$')\n",
        "plt.ylabel('$cond_2(A)$')\n",
        "plt.title('$cond_2$ en función del tamaño de la matriz')\n",
        "plt.show()"
      ],
      "metadata": {
        "colab": {
          "base_uri": "https://localhost:8080/",
          "height": 617
        },
        "id": "GANidsbJe7eo",
        "outputId": "f8a499b1-32af-4bea-aaf0-0e8a1c8420cc"
      },
      "execution_count": 7,
      "outputs": [
        {
          "output_type": "display_data",
          "data": {
            "text/plain": [
              "<Figure size 1080x720 with 1 Axes>"
            ],
            "image/png": "[encoded data removed]"
          },
          "metadata": {
            "needs_background": "light"
          }
        }
      ]
    },
    {
      "cell_type": "markdown",
      "metadata": {
        "id": "U7-Oo_Z4iRAn"
      },
      "source": [
        "# Parte b"
      ]
    },
    {
      "cell_type": "markdown",
      "metadata": {
        "id": "KQm8gUiUiRAn"
      },
      "source": [
        "## Ecuación en Dominios Perforados"
      ]
    },
    {
      "cell_type": "markdown",
      "metadata": {
        "id": "ew_dv6dUiRAn"
      },
      "source": [
        "Para $\\Omega = [0, 1]^2\\backslash B ((0.5, 0.5), 0.3)$, considere:\n",
        "$$\n",
        "\\left(  P \\right)  \\left\\{\n",
        "\\begin{array}\n",
        "[c]{ccc}\n",
        "-\\Delta u(x,y)=&0,  & \\text{si }(x,y)\\text{ en }\\Omega \\\\\n",
        "u(x,y)=&g(x,y), & \\text{si} (x,y)\\text{ en }\\partial\\Omega\n",
        "\\end{array}\n",
        "\\right.\n",
        "$$\n",
        "\n",
        "y $g$ dada por:\n",
        "\n",
        "$$\n",
        "g\\left(  x,y\\right)  =\\left\\{\n",
        "\\begin{array}\n",
        "[c]{cc}\n",
        "2  & \\text{si }(x,y) \\in \\partial [0,1]^2 \\\\\n",
        "0  & \\text{si }(x,y) \\in \\partial B ((0.5, 0.5), 0.3)\n",
        "\\end{array}\n",
        "\\right.\n",
        "$$\n",
        "\n",
        "\n",
        "\n",
        "\n"
      ]
    },
    {
      "cell_type": "markdown",
      "metadata": {
        "id": "uDNnx-XAiRAo"
      },
      "source": [
        "**P1.** Genere una función que reciba un punto de la malla $(x_j , y_k)$ y entregue como resultado $1$ si es un\n",
        "punto interior al cual se le puede calcular $\\Delta u$ con la aproximación utilizada en la fórmula de $5$ puntos."
      ]
    },
    {
      "cell_type": "code",
      "execution_count": 8,
      "metadata": {
        "id": "kii2f5a5iRAo"
      },
      "outputs": [],
      "source": [
        "def can(x, y, N):\n",
        "    \n",
        "    \"Función que indica si el punto está en [0,1]^2\\B(0.5,0.3)\"\n",
        "    def isin(x, y):\n",
        "        if 0<=x<=1 and 0<=y<=1:\n",
        "            return np.linalg.norm((x-0.5, y-0.5), ord=2)>=0.3\n",
        "        return False\n",
        "    \n",
        "    h = 1/(N+1)\n",
        "\n",
        "    \"Obtenemos los vecinos horizontales y verticales\"\n",
        "    neighbours_x = [(x+h*(-1)**i, y) for i in range(2)]\n",
        "    neighbours_y = [(x, y+h*(-1)**i) for i in range(2)]\n",
        "    \n",
        "    return all([isin(*n) for n in neighbours_x]), all([isin(*n) for n in neighbours_y])"
      ]
    },
    {
      "cell_type": "code",
      "execution_count": 9,
      "metadata": {
        "colab": {
          "base_uri": "https://localhost:8080/",
          "height": 252
        },
        "id": "Y9lATxsCiRAo",
        "outputId": "cfd97530-d681-4c74-c5b2-a8b01916773b"
      },
      "outputs": [
        {
          "output_type": "display_data",
          "data": {
            "text/plain": [
              "<Figure size 432x288 with 1 Axes>"
            ],
            "image/png": "[encoded data removed]"
          },
          "metadata": {}
        }
      ],
      "source": [
        "N = 10\n",
        "im = np.zeros((N, N))\n",
        "for i in range(1,N+1):\n",
        "    for j in range(1,N+1):  \n",
        "        x, y = i/(N+1), j/(N+1)\n",
        "        cc = can(x, y, N)\n",
        "        im[i-1, j-1] = 5*all(cc)\n",
        "        im[i-1, j-1] += 10*int(np.linalg.norm((x-0.5, y-0.5), ord=2)<0.3)\n",
        "plt.imshow(im,origin='lower')\n",
        "plt.xticks([])\n",
        "plt.yticks([]);"
      ]
    },
    {
      "cell_type": "markdown",
      "metadata": {
        "id": "MPDi6NwdiRAp"
      },
      "source": [
        "**P2.** Asuma que la matriz del sistema es de la forma $A = A_x + A_y$, donde $A_x$ tiene los coeficientes adecuados\n",
        "para la aproximación de la derivada parcial según $x$ y lo equivalente para $A_y$. Encuentre la forma\n",
        "que deben tener $A_x$ y $A_y$ y escriba un programa que calcule dichas matrices."
      ]
    },
    {
      "cell_type": "code",
      "execution_count": 10,
      "metadata": {
        "id": "NZuzPUvCiRAp"
      },
      "outputs": [],
      "source": [
        "def Ahx(N):\n",
        "    h = 1/(N+1)\n",
        "\n",
        "    \"Inicializamos Ax como una matriz nula\"\n",
        "    Ax = np.zeros((N**2, N**2))\n",
        "    \n",
        "    \"Revisamos la fila n de la matriz\"\n",
        "    for n in range(N**2):\n",
        "\n",
        "        \"Obtenemos las coordenadas en la grilla\"\n",
        "        i, j = n%N, n//N\n",
        "\n",
        "        \"Obtenemos las coordenadas en el plano cartesiano\"\n",
        "        x, y = (i+1)*h, (j+1)*h\n",
        "\n",
        "        \"Chequeamos si el punto está fuera de la bola, si no, la fila se queda nula\"\n",
        "        if np.linalg.norm((x-0.5, y-0.5), ord=2)>=0.3:\n",
        "            canx, _ = can(x, y, N)\n",
        "\n",
        "            \"Chequeamos si se puede aproximar la derivada en x\"\n",
        "            if canx:\n",
        "\n",
        "                \"Se puede, así que rellenamos normalmente\"\n",
        "                Ax[n, n] = 2\n",
        "\n",
        "                \"Si i=0 estamos en el borde izquierdo, luego no hay vecino izquierdo\"\n",
        "                if i>0:\n",
        "                    Ax[n, n-1] = -1\n",
        "\n",
        "                \"Si i=N-1 estamos en el borde derecho, luego no hay vecino derecho\"\n",
        "                if i<N-1:\n",
        "                    Ax[n, n+1] = -1\n",
        "\n",
        "            else:\n",
        "                \"No se puede, así que debemos usar la combinación lineal con alfa y beta\"\n",
        "\n",
        "                \"\"\"Chequeamos si el punto está en la mitad izquierda, en cuyo caso, \n",
        "                el vecino que está en la frontera de la bola está en la mitad izquierda de la bola\"\n",
        "                \"\"\"\n",
        "                if x < 0.5:\n",
        "                    xbola = 0.5 - np.sqrt(0.3**2 - (y-0.5)**2)\n",
        "                    k = abs(xbola-x) \n",
        "\n",
        "                    \"Rellenamos con -beta en la diagonal\"\n",
        "                    Ax[n, n] = 2/(h*k) \n",
        "                    \n",
        "                    \"\"\"No tiene vecino derecho en la grilla, así que solo importa el vecino\n",
        "                    izquierdo y lo rellenamos con -alfa\n",
        "                    \"\"\"\n",
        "                    if i>0:\n",
        "                        Ax[n, n-1] = -2/(h*(h+k))\n",
        "\n",
        "                else:\n",
        "                    \"\"\"El punto está en la mitad derecha, así que el vecino que está en la frontera\n",
        "                    de la bola está en la mitad derecha de la bola\n",
        "                    \"\"\"\n",
        "                    xbola = 0.5 + np.sqrt(0.3**2 - (y-0.5)**2)\n",
        "                    k = abs(xbola-x) \n",
        "\n",
        "                    \"Rellenamos con -beta en la diagonal\"\n",
        "                    Ax[n, n] = 2/(h*k)    \n",
        "\n",
        "                    \"\"\"No tiene vecino izquierdo en la grilla, así que solo importa el vecino\n",
        "                    derecho y lo rellenamos con -alfa\n",
        "                    \"\"\"\n",
        "                    if i<N-1:\n",
        "                        Ax[n, n+1] = -2/(h*(h+k))\n",
        "\n",
        "    return Ax/(h**2)\n",
        "\n",
        "def Ahy(N):\n",
        "    h = 1/(N+1)\n",
        "\n",
        "    \"Inicializamos Ax como una matriz nula\"\n",
        "    Ay = np.zeros((N**2, N**2))\n",
        "\n",
        "    \"Revisamos la fila n de la matriz\"\n",
        "    for n in range(N**2):\n",
        "\n",
        "        \"Obtenemos las coordenadas en la grilla\"\n",
        "        i, j = n%N, n//N\n",
        "\n",
        "        \"Obtenemos las coordenadas en el plano cartesiano\"\n",
        "        x, y = (i+1)*h, (j+1)*h\n",
        "\n",
        "        \"Chequeamos si el punto está fuera de la bola, si no, la fila se queda nula\"\n",
        "        if np.linalg.norm((x-0.5, y-0.5), ord=2)>=0.3:\n",
        "            _, cany = can(x, y, N)\n",
        "\n",
        "            \"Chequeamos si se puede aproximar la derivada en y\"\n",
        "            if cany:\n",
        "\n",
        "                \"Se puede, así que rellenamos normalmente\"\n",
        "                Ay[n, n] = 2\n",
        "\n",
        "                \"Si j=0 estamos en el borde inferior, luego no hay vecino abajo\"\n",
        "                if j>0:\n",
        "                    Ay[n, n-N] = -1\n",
        "\n",
        "                \"Si j=N-1 estamos en el borde superior, luego no hay vecino arriba\"\n",
        "                if j<N-1:\n",
        "                    Ay[n, n+N] = -1\n",
        "\n",
        "            else:\n",
        "                \"No se puede, así que debemos usar la combinación lineal con alfa y beta\"\n",
        "\n",
        "                \"\"\"Chequeamos si el punto está en la mitad inferior, en cuyo caso, \n",
        "                el vecino que está en la frontera de la bola está en la mitad inferior de la bola\"\n",
        "                \"\"\"\n",
        "                if y < 0.5:  \n",
        "                    ybola = 0.5-np.sqrt(0.3**2 - (x-0.5)**2)\n",
        "                    k = abs(ybola-y)\n",
        "\n",
        "                    \"Rellenamos con -beta en la diagonal\"\n",
        "                    Ay[n, n] = 2/(h*k) \n",
        "\n",
        "                    \"\"\"No tiene vecino arriba en la grilla, así que solo importa el vecino\n",
        "                    abajo y lo rellenamos con -alfa\n",
        "                    \"\"\"    \n",
        "                    if j>0:\n",
        "                        Ay[n, n-N] = -2/(h*(h+k))\n",
        "                else:\n",
        "                    \"\"\"El punto está en la mitad superior, así que el vecino que está en la frontera\n",
        "                    de la bola está en la mitad superior de la bola\n",
        "                    \"\"\"\n",
        "                    ybola = 0.5+np.sqrt(0.3**2 - (x-0.5)**2)\n",
        "                    k = abs(ybola-y) \n",
        "\n",
        "                    \"Rellenamos con -beta en la diagonal\"\n",
        "                    Ay[n, n] = 2/(h*k)    \n",
        "\n",
        "                    \"\"\"No tiene vecino abajo en la grilla, así que solo importa el vecino\n",
        "                    arriba y lo rellenamos con -alfa\n",
        "                    \"\"\"\n",
        "                    if j<N-1:\n",
        "                        Ay[n, n+N] = -2/(h*(h+k))\n",
        "    return Ay/(h**2)"
      ]
    },
    {
      "cell_type": "code",
      "execution_count": 11,
      "metadata": {
        "colab": {
          "base_uri": "https://localhost:8080/",
          "height": 281
        },
        "id": "s2Kjh-sviRAp",
        "outputId": "9e89a39e-fe33-45cb-b7fc-74ab4d2f1912"
      },
      "outputs": [
        {
          "output_type": "execute_result",
          "data": {
            "text/plain": [
              "<matplotlib.axes._subplots.AxesSubplot at 0x7f803a3da9d0>"
            ]
          },
          "metadata": {},
          "execution_count": 11
        },
        {
          "output_type": "display_data",
          "data": {
            "text/plain": [
              "<Figure size 432x288 with 2 Axes>"
            ],
            "image/png": "[encoded data removed]"
          },
          "metadata": {
            "needs_background": "light"
          }
        }
      ],
      "source": [
        "N = 5\n",
        "sns.heatmap(pd.DataFrame(Ahx(N)+Ahy(N)))"
      ]
    },
    {
      "cell_type": "markdown",
      "metadata": {
        "id": "bShHDrj-iRAq"
      },
      "source": [
        "**P3.** Escriba una función que calcule $b_h$ adaptado a este caso."
      ]
    },
    {
      "cell_type": "code",
      "execution_count": 12,
      "metadata": {
        "id": "Q7F84FSciRAq"
      },
      "outputs": [],
      "source": [
        "def bh(N):\n",
        "    h = 1/(N+1)\n",
        "\n",
        "    \"Inicializamos el vector b como nulo\"\n",
        "    b = np.zeros(N**2)\n",
        "\n",
        "    \"Definimos la función g que es 2 en la frontera del cuadrado unitario y 0 en el resto\"\n",
        "    g = lambda x,y: 2 if (x*y==0 or (1-x)*(1-y)==0) else 0\n",
        "\n",
        "    \"Revisamos cada componente de b\"\n",
        "    for n in range(N**2):\n",
        "\n",
        "        \"Obtenemos el punto en la grilla asociado a esa componente\"\n",
        "        i, j = n%N, n//N\n",
        "\n",
        "        \"Obtenemos el punto en el plano cartesiano asociado\"\n",
        "        x, y = (i+1)*h, (j+1)*h\n",
        "        \n",
        "        \"Estamos en el borde izquierdo\"\n",
        "        if i==0:\n",
        "            b[n] += g(0,y)/(h**2)\n",
        "        \n",
        "        \"Estamos en el borde derecho\"\n",
        "        if i==N-1:\n",
        "            b[n] += g(1,y)/(h**2)\n",
        "        \n",
        "        \"Estamos en el borde inferior\"\n",
        "        if j==0:\n",
        "            b[n] += g(x,0)/(h**2)\n",
        "\n",
        "        \"Estamos en el borde superior\"\n",
        "        if j==N-1:\n",
        "            b[n] += g(x,1)/(h**2)\n",
        "    return b\n",
        "\n",
        "def solve2(N):\n",
        "    \"Obtenemos la matriz A y el vector b\"\n",
        "    A = Ahx(N)+Ahy(N)\n",
        "    b = bh(N)\n",
        "\n",
        "    \"Debemos eliminar las filas de A que tengan solo ceros\"\n",
        "\n",
        "    \"\"\"Creamos una lista que contendrá los índices de las filas\n",
        "    en las que no todos son ceros\n",
        "    \"\"\"\n",
        "    indices = []\n",
        "\n",
        "    \"Revisamos cada fila\"\n",
        "    for n in range(N**2):\n",
        "        j = 0\n",
        "\n",
        "        \"Mientras vea ceros en la fila sigo revisando\"\n",
        "        while j<N**2 and A[n,j]==0:\n",
        "            j+=1\n",
        "        \n",
        "        \"Si j=N^2, entonces la fila está llena de ceros\"\n",
        "        if j != N**2:\n",
        "            indices.append(n)\n",
        "    \n",
        "    \"Eliminamos las filas que tienen solo ceros\"\n",
        "    A0 = csc_matrix(A[indices,:][:,indices])\n",
        "    b0 = b[indices]\n",
        "\n",
        "    \"Resolvemos\"\n",
        "    u0 = spsolve(A0,b0)\n",
        "\n",
        "    \"Agregamos las componentes que faltantes\"\n",
        "    u = np.zeros(N**2)\n",
        "    for i,j in enumerate(indices):\n",
        "        u[j] = u0[i]\n",
        "    return u"
      ]
    },
    {
      "cell_type": "markdown",
      "metadata": {
        "id": "jZsg_UyciRAq"
      },
      "source": [
        "**P4.** Resuelva el sistema y grafique la solución aproximada para $N = 10, 20, 30, 40, 50$. Comente sus resultados."
      ]
    },
    {
      "cell_type": "code",
      "execution_count": 13,
      "metadata": {
        "id": "-qhxW2T6iRAq"
      },
      "outputs": [],
      "source": [
        "params = {\"N\": [10, 20, 30, 40, 50, 60]}\n",
        "u = []\n",
        "for N in params[\"N\"]:\n",
        "      uN = solve2(N)\n",
        "      u.append(uN)"
      ]
    },
    {
      "cell_type": "code",
      "source": [
        "g = lambda x,y: 2 if (x*y==0 or (1-x)*(1-y)==0) else 0\n",
        "fig, ax = plt.subplots(2, 3, figsize=(3*5, 2*5))\n",
        "for k in range(len(params[\"N\"])):\n",
        "    N = params[\"N\"][k]\n",
        "    i, j = k//3, k%3\n",
        "    axk = ax[i, j]\n",
        "    bu = np.zeros((N+2, N+2))\n",
        "    for i in range(N+2):\n",
        "        for j in range(N+2):\n",
        "            if 0<i<N+1:\n",
        "                if 0<j<N+1:\n",
        "                    bu[i, j] += u[k].reshape(N, N)[i-1, j-1]\n",
        "            if i*j==0 or (N+1-i)*(N+1-j)==0:\n",
        "                h = 1/(N+1)\n",
        "                bu[i, j] += g(i*h,j*h)\n",
        "    axk.imshow(bu, origin=\"lower\")\n",
        "    axk.set_title(f\"Aproximación con N={N}\")"
      ],
      "metadata": {
        "colab": {
          "base_uri": "https://localhost:8080/",
          "height": 603
        },
        "id": "lMCfoWwN_-al",
        "outputId": "fb5bb103-dfb1-4c58-b7b8-61f8ce97d3b4"
      },
      "execution_count": 14,
      "outputs": [
        {
          "output_type": "display_data",
          "data": {
            "text/plain": [
              "<Figure size 1080x720 with 6 Axes>"
            ],
            "image/png": "[encoded data removed]"
          },
          "metadata": {
            "needs_background": "light"
          }
        }
      ]
    },
    {
      "cell_type": "markdown",
      "metadata": {
        "id": "-nwFZVRhiRAq"
      },
      "source": [
        "**P5.** ¿Qué sucede con el condicionamiento de la matriz utilizando la fórmula de la Parte a?¿Cómo adaptaría su código para el caso $f\\neq 0$?"
      ]
    },
    {
      "cell_type": "code",
      "source": [
        "def cond_2_sparse_non_symmetric(A):\n",
        "    N =   A.shape[0]\n",
        "    indices = []\n",
        "    for n in range(N):\n",
        "        j = 0\n",
        "        while j<N and A[n,j]==0:\n",
        "            j+=1\n",
        "        if j != N:\n",
        "            indices.append(n)\n",
        "    A0 = csc_matrix(A[indices,:][:,indices])\n",
        "\n",
        "    max = eigs(A0,k=1,which='LM')[0][0]\n",
        "    min = eigs(A0,k=1,which='SM')[0][0]\n",
        "    cond = abs(max)/abs(min)\n",
        "    return cond"
      ],
      "metadata": {
        "id": "5BeiZvS8lUWZ"
      },
      "execution_count": 15,
      "outputs": []
    },
    {
      "cell_type": "code",
      "source": [
        "params = {\"N\": [10*(k+1) for k in range(5)]}\n",
        "\n",
        "cond = []\n",
        "for N in params['N']:\n",
        "    cond.append(cond_2_sparse_non_symmetric(Ahx(N)+Ahy(N)))"
      ],
      "metadata": {
        "id": "JqF0dAfUmYrd"
      },
      "execution_count": 16,
      "outputs": []
    },
    {
      "cell_type": "code",
      "source": [
        "fig = plt.figure(figsize=(3*5, 2*5))\n",
        "plt.scatter(params['N'],cond)\n",
        "plt.plot(params['N'],cond)\n",
        "plt.xlabel('$N$')\n",
        "plt.ylabel('$cond_2(A)$')\n",
        "plt.title('$cond_2$ en función del tamaño de la matriz')\n",
        "plt.show()"
      ],
      "metadata": {
        "colab": {
          "base_uri": "https://localhost:8080/",
          "height": 617
        },
        "outputId": "a6dc9de6-ed63-4e48-fcfb-171028f913df",
        "id": "zJI5ulZKmd-9"
      },
      "execution_count": 17,
      "outputs": [
        {
          "output_type": "display_data",
          "data": {
            "text/plain": [
              "<Figure size 1080x720 with 1 Axes>"
            ],
            "image/png": "[encoded data removed]"
          },
          "metadata": {
            "needs_background": "light"
          }
        }
      ]
    }
  ],
  "metadata": {
    "kernelspec": {
      "display_name": "Python 3",
      "language": "python",
      "name": "python3"
    },
    "language_info": {
      "codemirror_mode": {
        "name": "ipython",
        "version": 3
      },
      "file_extension": ".py",
      "mimetype": "text/x-python",
      "name": "python",
      "nbconvert_exporter": "python",
      "pygments_lexer": "ipython3",
      "version": "3.8.12"
    },
    "colab": {
      "name": "20220324152326E6B536140EDFF0__Enunciado___Lab1.ipynb",
      "provenance": [],
      "collapsed_sections": []
    }
  },
  "nbformat": 4,
  "nbformat_minor": 0
}