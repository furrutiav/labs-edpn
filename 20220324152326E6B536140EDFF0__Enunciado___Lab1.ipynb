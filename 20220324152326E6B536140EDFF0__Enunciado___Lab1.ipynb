{
  "cells": [
    {
      "cell_type": "markdown",
      "metadata": {
        "id": "view-in-github",
        "colab_type": "text"
      },
      "source": [
        "<a href=\"https://colab.research.google.com/github/DanielMinaya1/labs-edpn/blob/main/20220324152326E6B536140EDFF0__Enunciado___Lab1.ipynb\" target=\"_parent\"><img src=\"https://colab.research.google.com/assets/colab-badge.svg\" alt=\"Open In Colab\"/></a>"
      ]
    },
    {
      "cell_type": "code",
      "execution_count": 1,
      "metadata": {
        "id": "E9Gsdi2yiRAZ"
      },
      "outputs": [],
      "source": [
        "import numpy as np\n",
        "from scipy.sparse import diags, kron, csr_matrix, csc_matrix, identity\n",
        "from scipy.sparse.linalg import spsolve, norm, inv, eigsh\n",
        "import matplotlib.pyplot as plt\n",
        "from matplotlib import rc\n",
        "import pandas as pd\n",
        "import seaborn as sns\n",
        "rc('text', usetex=True) # para usar latex en matplotlib"
      ]
    },
    {
      "cell_type": "markdown",
      "metadata": {
        "id": "1hzefwOciRAd"
      },
      "source": [
        "*Universidad de Chile*  \n",
        "*Facultad de Ciencias Físicas y Matemáticas*  \n",
        "*Departamento de Ingeniería Matemática*\n",
        "\n",
        "**MA5307-1 Análisis Numérico de EDP: Teoría y Laboratorio**  \n",
        "**Profesor:** Axel Osses  \n",
        "**Auxiliares:** Emir Chacra y Vicente Salinas"
      ]
    },
    {
      "cell_type": "markdown",
      "metadata": {
        "id": "UKixZtpKiRAe"
      },
      "source": [
        "# Laboratorio 1\n",
        "\n",
        "El objetivo de esta sesión práctica es aprender a resolver EDP’s en 2\n",
        "dimensiones mediante el Método de las Diferencias Finitas.\n",
        "\n",
        "Específicamente se resolverá la ecuación de Poisson en un rectángulo unitario y en un dominio perforado, además se estudiará la aproximación para condiciones de borde en dominios con curvatura"
      ]
    },
    {
      "cell_type": "markdown",
      "metadata": {
        "id": "cHB4zdkqiRAf"
      },
      "source": [
        "# Parte a"
      ]
    },
    {
      "cell_type": "markdown",
      "metadata": {
        "id": "vmW4G3E_iRAg"
      },
      "source": [
        "\n",
        "## Ecuación de Poisson\n",
        "\n",
        "Considere la ecuación dada por\n",
        "\n",
        "$$\n",
        "\\begin{equation}\n",
        "\\left.\n",
        "\\begin{array}[c]{rll}\n",
        "-\\Delta u= & 0 & \\text{sobre }\\Omega=\\left[  0,1\\right]^{2}\\\\\n",
        "u(0,y)=u(1,y)= & 0 & \\text{en }0\\leq y\\leq 1\\\\\n",
        "u(x,0)= & 0 & \\text{en }0\\leq x\\leq 1\\\\\n",
        "u(x,1)= & g(x) & \\text{en }0\\leq x\\leq 1\n",
        "\\end{array}\n",
        "\\right\\} \\quad (1)\n",
        "\\end{equation}\n",
        "$$\n",
        "\n",
        "Sea $N\\in\\mathbb{N}$, considere la aproximación del cuadrado unitario dado por la malla de puntos\n",
        "$$\n",
        "\\Omega_{h}=\\left\\{  \\left(  x_{j},y_{k}\\right)  \\mid j,k\\in\\left\\{\n",
        "0,1,\\ldots,N+1\\right\\}  \\right\\}\n",
        "$$\n",
        "donde $x_{j}=jh$, $y_{k}=kh$, $h=\\dfrac{1}{N+1}$. Se define el operador laplaciano discretizado por 5 puntos como\n",
        "$$\\Delta_{N}u_{j,k}=\\dfrac{1}{h^{2}}\\left(  u_{j+1,k}+u_{j-1,k}
        "+  u_{j,k-1}+u_{j,k+1}
        -4u_{jk}\\right)
        "$$\n",
        "donde $u_{jk}$ aproxima a $u\\left(x_{j},y_{k}\\right)  $.\n",
        "\n",
        "Tomando $g(x) = \\sin(\\pi x)$, se puede demostrar que la solución única de esta ecuación está dada por\n",
        "\n",
        "$$u\\left(  x,y\\right)  =\\frac{\\sin\\left( \\pi x\\right)   \\sinh\\left( \\pi y\\right)  }{\\sinh\\left(  \\pi\\right) } $$"
      ]
    },
    {
      "cell_type": "markdown",
      "metadata": {
        "id": "GCzr7hShiRAh"
      },
      "source": [
        "**P1.** Escriba dos funciones que calculen $\\boldsymbol{A}_{h}$ y $\\boldsymbol{b}_{h}$ de la forma más simple posible. Las entradas para estas funciones deben ser $N$ y $g$.\n",
        "\n",
        "También escriba una función `solve` que, utilizando estas funciones (y las funciones auxiliares que necesite), entregue la solución aproximada.\n",
        "\n",
        "**Indicación.** Revise la documentación del comando `kron` (disponible a través de `scypy.sparse`)"
      ]
    },
    {
      "cell_type": "code",
      "execution_count": 2,
      "metadata": {
        "id": "hfiWk6KliRAj"
      },
      "outputs": [],
      "source": [
        "def Ah(N):\n",
        "    h = 1/(N+1)\n",
        "\n",
        "    \"Creamos la matriz L4\"\n",
        "    e = np.ones(N)\n",
        "    f = np.ones(N-1)\n",
        "    k = np.array([-f,4*e,-f], dtype= object)\n",
        "    offset = [-1,0,1]\n",
        "    L4 = diags(k,offset)\n",
        "\n",
        "    \"Creamos una matriz por bloques con L4 en la diagonal\"\n",
        "    I = identity(N)\n",
        "    AL4 = kron(I, L4)\n",
        "\n",
        "    \"Creamos una matriz por bloques con -I en la sub y sobrediagonal\"\n",
        "    d0d = np.array([-f,0,-f], dtype= object)\n",
        "    offset = [-1,0,1]\n",
        "    D0D = diags(d0d,offset)\n",
        "    A1 = kron(D0D, I)\n",
        "\n",
        "    \"Obtenemos la matriz A sumando las matrices por bloques generadas\"\n",
        "    A = A1+AL4\n",
        "    return A/(h**2)\n",
        "\n",
        "\n",
        "def bh(N,f,g):\n",
        "    h = 1/(N+1)\n",
        "\n",
        "    \"Inicializamos b como f\"\n",
        "    b = f\n",
        "\n",
        "    \"Para los puntos interiores con k=N le agregamos la condición de borde\"\n",
        "    for i in range(1, N+1):\n",
        "        xi = i*h\n",
        "        b[N*(N-1)+i-1] += g(xi)/(h**2)\n",
        "    return b \n",
        "\n",
        "def solve(N, f, g):\n",
        "      \"\"\"Resuelve el problema del laplaciano en 2D en (0,1)^2, con condiciones\n",
        "      Dirichlet en el borde, usando una grilla uniforme, con tamaño de\n",
        "      paso h=1/(N+1) en x e y.\n",
        "      \"\"\"\n",
        "      A = Ah(N)\n",
        "      b = bh(N, f, g)\n",
        "      u = spsolve(A, b)\n",
        "      return u"
      ]
    },
    {
      "cell_type": "markdown",
      "metadata": {
        "id": "PZyWiVfTiRAk"
      },
      "source": [
        "**P2.** Resuelva la ecuación para $N = 10, 20, 30, 40, 50$. Comente sus resultados."
      ]
    },
    {
      "cell_type": "code",
      "execution_count": 3,
      "metadata": {
        "id": "bfuWn4qViRAl"
      },
      "outputs": [],
      "source": [
        "params = {\"N\": [10, 20, 30, 40, 50]}\n",
        "g = lambda x: np.sin(np.pi*x)\n",
        "u = []\n",
        "\n",
        "\"Resolvemos para cada N dado\"\n",
        "for N in params[\"N\"]:\n",
        "    uN = solve(N, np.zeros(N**2), g)\n",
        "    u.append(uN)"
      ]
    },
    {
      "cell_type": "code",
      "execution_count": 4,
      "metadata": {
        "colab": {
          "base_uri": "https://localhost:8080/",
          "height": 591
        },
        "id": "N9Fuyx2eiRAl",
        "outputId": "3137598a-9a26-45f1-e6da-ae54f216aa1d"
      },
      "outputs": [
        {
          "output_type": "display_data",
          "data": {
            "text/plain": [
              "<Figure size 1080x720 with 6 Axes>"
            ],
            "image/png": "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\n"
          },
          "metadata": {}
        }
      ],
      "source": [
        "fig, ax = plt.subplots(2, 3, figsize=(3*5, 2*5))\n",
        "for k in range(len(params[\"N\"])):\n",
        "    N = params[\"N\"][k]\n",
        "    i, j = k//3, k%3\n",
        "    axk = ax[i, j]\n",
        "    bu = np.zeros((N+2, N+2))\n",
        "    for i in range(N+2):\n",
        "        for j in range(N+2):\n",
        "            \n",
        "            \"Puntos interiores\"\n",
        "            if 0<i<N+1:\n",
        "                if 0<j<N+1:\n",
        "                    bu[i, j] += u[k].reshape(N, N)[i-1, j-1]\n",
        "            \n",
        "            \"Agregamos condición de borde en la tapa superior\"\n",
        "            if i == N+1:\n",
        "                h = 1/(N+1)\n",
        "                bu[i, j] += g(j*h)\n",
        "    \n",
        "    axk.imshow(bu, origin=\"lower\")\n",
        "    axk.set_title(f\"Aproximación con N={N}\")\n",
        "    axk.set_xticks([])\n",
        "    axk.set_yticks([])\n",
        "\n",
        "xx = np.linspace(0,1,50)\n",
        "yy = np.linspace(0,1,50)\n",
        "X, Y = np.meshgrid(xx, yy, indexing=\"ij\")\n",
        "u_org = lambda x, y: np.sin(np.pi*x)*np.sinh(np.pi*y)/np.sinh(np.pi)\n",
        "Z = u_org(X, Y)\n",
        "axk = ax[1, 2]\n",
        "axk.imshow(Z.T, origin=\"lower\")\n",
        "axk.set_title(\"Original (N=50)\")\n",
        "axk.set_xticks([])\n",
        "axk.set_yticks([]);"
      ]
    },
    {
      "cell_type": "markdown",
      "metadata": {
        "id": "elZKBCU3iRAm"
      },
      "source": [
        "**P3.** Estudie el condicionamiento en norma $2$ de la Matriz $A_h$.\n",
        "\n",
        "**Indicación.** Sean $p\\in\\left[  1,+\\infty\\right]  $ y $\\boldsymbol{A}\\in\\mathbb{R}^{N\\times N}$. Se define la norma inducida $p$ de $\\boldsymbol{A}$ como\n",
        "$$\n",
        "\\left\\Vert \\boldsymbol{A}\\right\\Vert _{p}=\\sup\\limits_{\\boldsymbol{x\\in}\\mathbb{R}^{N}\\setminus\\left\\{  \\boldsymbol{0}\\right\\}  }\\dfrac{\\left\\Vert\\boldsymbol{Ax}\\right\\Vert _{p}}{\\left\\Vert \\boldsymbol{x}\\right\\Vert_{p}}\n",
        "$$\n",
        "y, si $\\boldsymbol{A}$ es invertible, el número de condición en norma inducida $p$ como $\\operatorname{cond}_{p}\\left(  \\boldsymbol{A}\\right)  =\\left\\Vert\n",
        "\\boldsymbol{A}\\right\\Vert _{p}\\left\\Vert \\boldsymbol{A}^{-1}\\right\\Vert _{p}$.\n",
        "\n",
        "En este caso particular, como $\\boldsymbol{A}_{h}$ es simétrica, el número de condición en la norma $2$ inducida puede calcularse como\n",
        "$$\n",
        "\\operatorname{cond}_{2}\\left(  \\boldsymbol{A}_{h}\\right)  =\\dfrac{\\lambda_{\\max,h}\\left(  \\boldsymbol{A}_{h}\\right)  }{\\lambda_{\\min,h}\\left(\\boldsymbol{A}_{h}\\right)}\n",
        "$$\n",
        "donde $\\lambda_{\\max,h}\\left(  \\boldsymbol{A}_{h}\\right)  =\\max\\left\\{\\left\\vert \\lambda\\right\\vert \\mid\\lambda\\in\\sigma\\left(  \\boldsymbol{A}_{h}\\right)  \\right\\}  $ y $\\lambda_{\\min,h}\\left(  \\boldsymbol{A}_{h}\\right)\n",
        "=\\min\\left\\{  \\left\\vert \\lambda\\right\\vert \\mid\\lambda\\in\\sigma\\left(\\boldsymbol{A}_{h}\\right)  \\right\\}  $."
      ]
    },
    {
      "cell_type": "code",
      "execution_count": 5,
      "metadata": {
        "id": "dS-7ePuCiRAm"
      },
      "outputs": [],
      "source": [
        "def cond_2_sparse(A):\n",
        "    \"\"\"\n",
        "    Calcula el numero de condicionamiento en norma inducida 2\n",
        "    para una matriz sparse simetrica A.\n",
        "    Se obtiene como el valor propio de mayor módulo dividido por el de menor módulo\n",
        "    \n",
        "    Input:\n",
        "    - A matriz sparse simetrica\n",
        "    \n",
        "    Documentacion de eigsh:\n",
        "    https://docs.scipy.org/doc/scipy-0.15.1/reference/generated/scipy.sparse.linalg.eigsh.html\n",
        "    \"\"\"\n",
        "\n",
        "    max = eigsh(A,k=1,which='LM')[0][0]\n",
        "    min = eigsh(A,k=1,which='SM')[0][0]\n",
        "    cond = max/min\n",
        "    return cond"
      ]
    },
    {
      "cell_type": "markdown",
      "metadata": {
        "id": "U7-Oo_Z4iRAn"
      },
      "source": [
        "# Parte b"
      ]
    },
    {
      "cell_type": "markdown",
      "metadata": {
        "id": "KQm8gUiUiRAn"
      },
      "source": [
        "## Ecuación en Dominios Perforados"
      ]
    },
    {
      "cell_type": "markdown",
      "metadata": {
        "id": "ew_dv6dUiRAn"
      },
      "source": [
        "Para $\\Omega = [0, 1]^2\\backslash B ((0.5, 0.5), 0.3)$, considere:\n",
        "$$\n",
        "\\left(  P \\right)  \\left\\{\n",
        "\\begin{array}\n",
        "[c]{ccc}\n",
        "-\\Delta u(x,y)=&0,  & \\text{si }(x,y)\\text{ en }\\Omega \\\\\n",
        "u(x,y)=&g(x,y), & \\text{si} (x,y)\\text{ en }\\partial\\Omega\n",
        "\\end{array}\n",
        "\\right.\n",
        "$$\n",
        "\n",
        "y $g$ dada por:\n",
        "\n",
        "$$\n",
        "g\\left(  x,y\\right)  =\\left\\{\n",
        "\\begin{array}\n",
        "[c]{cc}\n",
        "2  & \\text{si }(x,y) \\in \\partial [0,1]^2 \\\\\n",
        "0  & \\text{si }(x,y) \\in \\partial B ((0.5, 0.5), 0.3)\n",
        "\\end{array}\n",
        "\\right.\n",
        "$$\n",
        "\n",
        "\n",
        "\n",
        "\n"
      ]
    },
    {
      "cell_type": "markdown",
      "metadata": {
        "id": "uDNnx-XAiRAo"
      },
      "source": [
        "**P1.** Genere una función que reciba un punto de la malla $(x_j , y_k)$ y entregue como resultado $1$ si es un\n",
        "punto interior al cual se le puede calcular $\\Delta u$ con la aproximación utilizada en la fórmula de $5$ puntos."
      ]
    },
    {
      "cell_type": "code",
      "execution_count": 6,
      "metadata": {
        "id": "kii2f5a5iRAo"
      },
      "outputs": [],
      "source": [
        "def can(x, y, N):\n",
        "    \n",
        "    \"Función que indica si el punto está en [0,1]^2\\B(0.5,0.3)\"\n",
        "    def isin(x, y):\n",
        "        if 0<=x<=1 and 0<=y<=1:\n",
        "            return np.linalg.norm((x-0.5, y-0.5), ord=2)>=0.3\n",
        "        return False\n",
        "    \n",
        "    h = 1/(N+1)\n",
        "\n",
        "    \"Obtenemos los vecinos horizontales y verticales\"\n",
        "    neighbours_x = [(x+h*(-1)**i, y) for i in range(2)]\n",
        "    neighbours_y = [(x, y+h*(-1)**i) for i in range(2)]\n",
        "    \n",
        "    return all([isin(*n) for n in neighbours_x]), all([isin(*n) for n in neighbours_y])"
      ]
    },
    {
      "cell_type": "code",
      "execution_count": 7,
      "metadata": {
        "colab": {
          "base_uri": "https://localhost:8080/",
          "height": 252
        },
        "id": "Y9lATxsCiRAo",
        "outputId": "20a719c9-117b-4b03-bbca-79f3ecfbd9c7"
      },
      "outputs": [
        {
          "output_type": "display_data",
          "data": {
            "text/plain": [
              "<Figure size 432x288 with 1 Axes>"
            ],
            "image/png": "iVBORw0KGgoAAAANSUhEUgAAAOsAAADrCAYAAACICmHVAAAABHNCSVQICAgIfAhkiAAAAAlwSFlzAAALEgAACxIB0t1+/AAAADh0RVh0U29mdHdhcmUAbWF0cGxvdGxpYiB2ZXJzaW9uMy4yLjIsIGh0dHA6Ly9tYXRwbG90bGliLm9yZy+WH4yJAAADmUlEQVR4nO3cMW5TQRRA0TG4g8oSjRsaFkCZHWQ7INaBwnayA8osIA2NG6RU0IE+HSkIUix5Yl/nnPZ/jZ5kX82v3mpZlgGcvhfHHgB4HLFChFghQqwQIVaIECtErPd5+eXrV8t6s5k1Czx7v+7uxu8fP1cPPdsr1vVmM7afPhxmKuAfu89f/vvMZzBEiBUixAoRYoUIsUKEWCFCrBAhVogQK0SIFSLEChFihQixQoRYIUKsECFWiBArRIgVIsQKEXvtYGKMdx+/HnuEs3Z7dXHsEU6WmxUixAoRYoUIsUKEWCFCrBAhVogQK0SIFSLEChFihQixQoRYIUKsECFWiBArRIgVIsQKEWKFCLFChFgh4qy3G87YRHi9uzn4mdy73B7+zHPZmOhmhQixQoRYIUKsECFWiBArRIgVIsQKEWKFCLFChFghQqwQIVaIECtEiBUixAoRYoUIsUKEWCFCrBBxEgvTZiw2G8Nys6IZv9mMJWxjPP0iNjcrRIgVIsQKEWKFCLFChFghQqwQIVaIECtEiBUixAoRYoUIsUKEWCFCrBAhVogQK0SIFSLEChFihQixQoRYIUKsECFWiBArRIgVIsQKEWKFCLFChFghQqwQIVaIECtEiBUixAoRYoUIsUKEWCFCrBAhVogQK0SIFSLEChFihQixQoRYIUKsECFWiBArRIgVIsQKEWKFCLFChFghQqwQIVaIECtEiBUixAoRYoUIsUKEWCFCrBAhVogQK0SIFSLEChFihQixQoRYIUKsECFWiBArRIgVIsQKEWKFCLFChFghQqwQIVaIECtEiBUixAoRYoUIsUKEWCFCrBCxPvYAY4xxe3Ux5dzL7eHPvN7dHP5Q/rrcvj/4mbP+X0/NzQoRYoUIsUKEWCFCrBAhVogQK0SIFSLEChFihQixQoRYIUKsECFWiBArRIgVIsQKEWKFCLFChFgh4iQWps0yY1HWjCVs3DuX5WYzuFkhQqwQIVaIECtEiBUixAoRYoUIsUKEWCFCrBAhVogQK0SIFSLEChFihQixQoRYIUKsECFWiBArRIgVIs56u+EMtu9xLG5WiBArRIgVIsQKEWKFCLFChFghQqwQIVaIECtEiBUixAoRYoUIsUKEWCFCrBAhVogQK0SIFSLEChFihYjVsiyPf3m1+j7G+DZvHHj23i7L8uahB3vFChyPz2CIECtEiBUixAoRYoUIsUKEWCFCrBAhVoj4Axp2NwN/DerrAAAAAElFTkSuQmCC\n"
          },
          "metadata": {}
        }
      ],
      "source": [
        "N = 10\n",
        "im = np.zeros((N, N))\n",
        "for i in range(1,N+1):\n",
        "    for j in range(1,N+1): \n",
        "        x, y = i/(N+1), j/(N+1)\n",
        "        cc = can(x, y, N)\n",
        "        im[i-1, j-1] = 5*all(cc)\n",
        "        im[i-1, j-1] += 10*int(np.linalg.norm((x-0.5, y-0.5), ord=2)<0.3)\n",
        "plt.imshow(im,origin='lower')\n",
        "plt.xticks([])\n",
        "plt.yticks([]);"
      ]
    },
    {
      "cell_type": "markdown",
      "metadata": {
        "id": "MPDi6NwdiRAp"
      },
      "source": [
        "**P2.** Asuma que la matriz del sistema es de la forma $A = A_x + A_y$, donde $A_x$ tiene los coeficientes adecuados\n",
        "para la aproximación de la derivada parcial según $x$ y lo equivalente para $A_y$. Encuentre la forma\n",
        "que deben tener $A_x$ y $A_y$ y escriba un programa que calcule dichas matrices."
      ]
    },
    {
      "cell_type": "code",
      "execution_count": 8,
      "metadata": {
        "id": "NZuzPUvCiRAp"
      },
      "outputs": [],
      "source": [
        "def Ahx(N):\n",
        "    Ax = np.zeros((N**2, N**2))\n",
        "    h = 1/(N+1)\n",
        "    for n in range(N**2):\n",
        "        i, j = n%N, n//N\n",
        "        x, y = (i+1)*h, (j+1)*h\n",
        "        if np.linalg.norm((x-0.5, y-0.5), ord=2)>=0.3:\n",
        "            canx, _ = can(x, y, N)\n",
        "            if canx:\n",
        "                Ax[n, n] = 2\n",
        "                if i>0:\n",
        "                    Ax[n, n-1] = -1\n",
        "                if i<N-1:\n",
        "                    Ax[n, n+1] = -1\n",
        "            else:\n",
        "                if x < 0.5:  \n",
        "                    k = abs(0.5+np.sqrt(0.3**2 - (y-0.5)**2)-x) \n",
        "                    Ax[n, n] = 2/(h*k)     \n",
        "                    if i>0:\n",
        "                        Ax[n, n-1] = -2/(h*(h+k))\n",
        "                else:\n",
        "                    k = abs(0.5-np.sqrt(0.3**2 - (y-0.5)**2)-x) \n",
        "                    Ax[n, n] = 2/(h*k)    \n",
        "                    if i<N-1:\n",
        "                        Ax[n, n+1] = -2/(h*(h+k))\n",
        "    return Ax/(h**2)\n",
        "\n",
        "def Ahy(N):\n",
        "    Ay = np.zeros((N**2, N**2))\n",
        "    h = 1/(N+1)\n",
        "    for n in range(N**2):\n",
        "        i, j = n%N, n//N\n",
        "        x, y = (i+1)*h, (j+1)*h\n",
        "        if np.linalg.norm((x-0.5, y-0.5), ord=2)>=0.3:\n",
        "            _, cany = can(x, y, N)\n",
        "            if cany:\n",
        "                Ay[n, n] = 2\n",
        "                if j>0:\n",
        "                    Ay[n, n-N] = -1\n",
        "                if j<N-1:\n",
        "                    Ay[n, n+N] = -1\n",
        "            else:\n",
        "                if y < 0.5:  \n",
        "                    k = abs(0.5+np.sqrt(0.3**2 - (x-0.5)**2)-y) \n",
        "                    Ay[n, n] = 2/(h*k)     \n",
        "                    if j>0:\n",
        "                        Ay[n, n-N] = -2/(h*(h+k))\n",
        "                else:\n",
        "                    k = abs(0.5-np.sqrt(0.3**2 - (x-0.5)**2)-y) \n",
        "                    Ay[n, n] = 2/(h*k)    \n",
        "                    if j<N-1:\n",
        "                        Ay[n, n+N] = -2/(h*(h+k))\n",
        "    return Ay/(h**2)"
      ]
    },
    {
      "cell_type": "code",
      "execution_count": 9,
      "metadata": {
        "colab": {
          "base_uri": "https://localhost:8080/",
          "height": 281
        },
        "id": "s2Kjh-sviRAp",
        "outputId": "16ea4662-d4d3-4d9d-997a-631c5cef873a"
      },
      "outputs": [
        {
          "output_type": "execute_result",
          "data": {
            "text/plain": [
              "<matplotlib.axes._subplots.AxesSubplot at 0x7ffbcaf5ba50>"
            ]
          },
          "metadata": {},
          "execution_count": 9
        },
        {
          "output_type": "display_data",
          "data": {
            "text/plain": [
              "<Figure size 432x288 with 2 Axes>"
            ],
            "image/png": "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\n"
          },
          "metadata": {
            "needs_background": "light"
          }
        }
      ],
      "source": [
        "N = 6\n",
        "sns.heatmap(pd.DataFrame(Ahx(N)+Ahy(N)))"
      ]
    },
    {
      "cell_type": "markdown",
      "metadata": {
        "id": "bShHDrj-iRAq"
      },
      "source": [
        "**P3.** Escriba una función que calcule $b_h$ adaptado a este caso."
      ]
    },
    {
      "cell_type": "code",
      "execution_count": 10,
      "metadata": {
        "id": "Q7F84FSciRAq"
      },
      "outputs": [],
      "source": [
        "def bh(N):\n",
        "    b = np.zeros(N**2)\n",
        "    g = lambda x,y: 2 if (x*y==0 or (1-x)*(1-y)==0) else 0\n",
        "    for n in range(N**2):\n",
        "        h = 1/(N+1)\n",
        "        i, j = n%N, n//N\n",
        "        x, y = (i+1)*h, (j+1)*h\n",
        "        \n",
        "        if i*j==0 or (N-1-i)*(N-1-j)==0:\n",
        "            b[n] += 2/(h**2)\n",
        "        \n",
        "        if (i,j) in [(0,0),(N-1,N-1),(0,N-1),(N-1,0)]:\n",
        "            b[n] += 2/(h**2)\n",
        "    return b\n",
        "\n",
        "def solve2(N):\n",
        "    A = Ahx(N)+Ahy(N)\n",
        "    b = bh(N)\n",
        "\n",
        "    indices = []\n",
        "    for n in range(N**2):\n",
        "        j = 0\n",
        "        while j<N**2 and A[n,j]==0:\n",
        "            j+=1\n",
        "        if j != N**2:\n",
        "            indices.append(n)\n",
        "    \n",
        "    A0 = csc_matrix(A[indices,:][:,indices])\n",
        "    b0 = b[indices]\n",
        "    u0 = spsolve(A0,b0)\n",
        "\n",
        "    u = np.zeros(N**2)\n",
        "    for i,j in enumerate(indices):\n",
        "        u[j] = u0[i]\n",
        "    return u"
      ]
    },
    {
      "cell_type": "markdown",
      "metadata": {
        "id": "jZsg_UyciRAq"
      },
      "source": [
        "**P4.** Resuelva el sistema y grafique la solución aproximada para $N = 10, 20, 30, 40, 50$. Comente sus resultados."
      ]
    },
    {
      "cell_type": "code",
      "execution_count": 11,
      "metadata": {
        "id": "-qhxW2T6iRAq"
      },
      "outputs": [],
      "source": [
        "params = {\"N\": [10, 20, 30, 40, 50, 60]}\n",
        "u = []\n",
        "for N in params[\"N\"]:\n",
        "      uN = solve2(N)\n",
        "      u.append(uN)"
      ]
    },
    {
      "cell_type": "code",
      "source": [
        "g = lambda x,y: 2 if (x*y==0 or (1-x)*(1-y)==0) else 0\n",
        "fig, ax = plt.subplots(2, 3, figsize=(3*6, 2*6))\n",
        "for k in range(len(params[\"N\"])):\n",
        "    N = params[\"N\"][k]\n",
        "    i, j = k//3, k%3\n",
        "    axk = ax[i, j]\n",
        "    bu = np.zeros((N+2, N+2))\n",
        "    for i in range(N+2):\n",
        "        for j in range(N+2):\n",
        "            if 0<i<N+1:\n",
        "                if 0<j<N+1:\n",
        "                    bu[i, j] += u[k].reshape(N, N)[i-1, j-1]\n",
        "            if i*j==0 or (N+1-i)*(N+1-j)==0:\n",
        "                h = 1/(N+1)\n",
        "                bu[i, j] += g(i*h,j*h)\n",
        "    axk.imshow(bu, origin=\"lower\")\n",
        "    axk.set_title(f\"Aproximación con N={N}\")"
      ],
      "metadata": {
        "colab": {
          "base_uri": "https://localhost:8080/",
          "height": 712
        },
        "id": "lMCfoWwN_-al",
        "outputId": "54364c3a-6806-4a0d-c7f4-f9b8c5b8fd63"
      },
      "execution_count": 12,
      "outputs": [
        {
          "output_type": "display_data",
          "data": {
            "text/plain": [
              "<Figure size 1296x864 with 6 Axes>"
            ],
            "image/png": "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\n"
          },
          "metadata": {
            "needs_background": "light"
          }
        }
      ]
    },
    {
      "cell_type": "markdown",
      "metadata": {
        "id": "-nwFZVRhiRAq"
      },
      "source": [
        "**P5.** ¿Qué sucede con el condicionamiento de la matriz utilizando la fórmula de la Parte a?¿Cómo adaptaría su código para el caso $f\\neq 0$?"
      ]
    },
    {
      "cell_type": "code",
      "execution_count": 17,
      "metadata": {
        "id": "DkE0fhryiRAr"
      },
      "outputs": [],
      "source": [
        ""
      ]
    }
  ],
  "metadata": {
    "kernelspec": {
      "display_name": "Python 3",
      "language": "python",
      "name": "python3"
    },
    "language_info": {
      "codemirror_mode": {
        "name": "ipython",
        "version": 3
      },
      "file_extension": ".py",
      "mimetype": "text/x-python",
      "name": "python",
      "nbconvert_exporter": "python",
      "pygments_lexer": "ipython3",
      "version": "3.8.12"
    },
    "colab": {
      "name": "20220324152326E6B536140EDFF0__Enunciado_-_Lab1.ipynb",
      "provenance": [],
      "collapsed_sections": [],
      "include_colab_link": true
    }
  },
  "nbformat": 4,
  "nbformat_minor": 0
}
