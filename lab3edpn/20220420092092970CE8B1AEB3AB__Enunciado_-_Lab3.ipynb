{
 "cells": [
  {
   "cell_type": "code",
   "execution_count": 1,
   "metadata": {},
   "outputs": [],
   "source": [
    "import matplotlib.pyplot as plt\n",
    "from matplotlib.gridspec import GridSpec\n",
    "from matplotlib import rc\n",
    "#rc('text', usetex=False) # para usar latex en matplotlib\n",
    "from matplotlib import animation # animaciones\n",
    "import numpy as np\n",
    "from scipy.sparse import diags, kron, csr_matrix, csc_matrix\n",
    "from scipy.sparse.linalg import spsolve, norm, inv, eigsh\n",
    "import pandas as pd"
   ]
  },
  {
   "cell_type": "markdown",
   "metadata": {},
   "source": [
    "*Universidad de Chile*  \n",
    "*Facultad de Ciencias Físicas y Matemáticas*  \n",
    "*Departamento de Ingeniería Matemática*\n",
    "\n",
    "**MA5307-1 Análisis Numérico de EDP: Teoría y Laboratorio**  \n",
    "**Profesor:** Axel Osses  \n",
    "**Auxiliares:** Emir Chacra"
   ]
  },
  {
   "cell_type": "markdown",
   "metadata": {},
   "source": [
    "# Laboratorio 3\n",
    "\n",
    "El objetivo de este laboratorio es entender e implementar un esquema numérico basado en elementos finitos de Lagrange para una ecuacion elíptica de segundo orden en una dimensión con condiciones de frontera Dirichlet."
   ]
  },
  {
   "cell_type": "markdown",
   "metadata": {},
   "source": [
    "Sean $\\alpha,\\beta,u_{\\alpha},u_{\\beta}\\in\\mathbb{R}$, $\\varepsilon>0$,\n",
    "$\\Omega=\\left(  \\alpha,\\beta\\right)  $, $a\\in W^{1,\\infty}\\left(\n",
    "\\Omega\\right)  $, $b\\in L^{\\infty}\\left(  \\Omega\\right)  $ y $f\\in\n",
    "L^{2}\\left(  \\Omega\\right)  $. \n",
    "\n",
    "Considere la siguiente ecuación de difusión-advección-reacción dada por\n",
    "$\\begin{align}\n",
    "-\\varepsilon u^{\\prime\\prime}+au^{\\prime}+bu  &  =f\\qquad\\text{sobre }%\n",
    "\\Omega\\nonumber\\\\\n",
    "u\\left(  \\alpha\\right)   &  =u_{\\alpha}\\tag{P}\\\\\n",
    "u\\left(  \\beta\\right)   &  =u_{\\beta}\\nonumber\n",
    "\\end{align}$"
   ]
  },
  {
   "cell_type": "markdown",
   "metadata": {},
   "source": [
    "### **Ejercicio 1:**\n",
    "\n",
    "Programe una funcion que resuelva numéricamente el problema (P) usando el metodo descrito. Las entradas del programa deben ser la discretización $\\{x_j\\}^{N+1}_{j=0}$ como un vector ordenado, $u_\\alpha$,$u_\\beta$, $\\varepsilon$, $a$, $b$ y $f$. \n",
    "\n",
    "La salida de este programa debe ser un vector del mismo tamaño que la discretización con las soluciones discretas del esquema."
   ]
  },
  {
   "cell_type": "code",
   "execution_count": null,
   "metadata": {},
   "outputs": [],
   "source": []
  },
  {
   "cell_type": "code",
   "execution_count": 14,
   "metadata": {
    "scrolled": true
   },
   "outputs": [],
   "source": [
    "def Resuelve(x,ualpha,ubeta,eps,a,b,f):\n",
    "    \n",
    "    \n",
    "    N = x.shape[0]-2\n",
    "    h = [x[i+1]-x[i] for i in range(N+1)]\n",
    "    \n",
    "    s = np.array([1/hi for hi in h])\n",
    "    d = np.array([1/h[0]] + [1/h[i] + 1/h[i+1] for i in range(N)] + [1/h[N]])\n",
    "    \n",
    "    offset = [-1,0,1]\n",
    "    \n",
    "    A0 = eps * diags(np.array([-s,d,-s], dtype= object), offset)\n",
    "    \n",
    "    s = np.ones(N+1)\n",
    "    d = np.array([-1] + [0]*N + [1])\n",
    "    \n",
    "    A1 = (a/2) * diags(np.array([-s,d,s], dtype= object), offset) \n",
    "    \n",
    "    s = np.array([hi for hi in h])\n",
    "    d = np.array([h[0]] + [h[i] + h[i+1] for i in range(N)] + [h[N]])\n",
    "    \n",
    "    A2 = (b/6) *  diags(np.array([s,2*d,s], dtype= object), offset) \n",
    "    \n",
    "    A = A0 + A1 + A2\n",
    "    \n",
    "    bar = lambda x, y: (x+y)/2\n",
    "    \n",
    "    f0 = [h[0]*(f(x[0]) + 2*f(bar(x[0], x[1])))] + [h[i+1] * (f(x[i+1]) + 2*f(bar(x[i+1], x[i+2]))) + h[i] * (f(x[i+1]) + 2*f(bar(x[i], x[i+1]))) for i in range(N)] + [h[N]*(f(x[N+1]) + 2*f(bar(x[N], x[N+1])))]\n",
    "    \n",
    "    f_vec = 1/6 * np.array(f0)\n",
    "    \n",
    "    A_star = csr_matrix(A.todense()[1:N+1,1:N+1])\n",
    "    \n",
    "    f_star = f_vec[1:N+1]\n",
    "    \n",
    "    b0 = [A.todense()[1, 0] * ualpha] + [0]*(N-2) + [A.todense()[N, N+1] * ubeta]\n",
    "    b_star = f_star - np.array(b0)\n",
    "    \n",
    "    w_star = spsolve(A_star, b_star)\n",
    "    \n",
    "    u = np.array([ualpha] + list(w_star) + [ubeta])\n",
    "    \n",
    "    return u\n"
   ]
  },
  {
   "cell_type": "markdown",
   "metadata": {},
   "source": [
    "### **Ejercicio 2:** \n",
    "Considere $f\\equiv1$, $a=1$, $b=0$ y $\\Omega=\\left(  0,1\\right)  $.\n",
    "\n",
    "Para $u_{\\alpha}=u_{\\beta}=0$, la solución analítica de $\\textbf{(P)}$ es única e igual a la\n",
    "función\n",
    "$$\n",
    "u(x)=x-\\dfrac\n",
    "{\\exp\\left(  \\frac{x-1}{\\varepsilon}\\right)  -\\exp\\left(  -\\frac\n",
    "{1}{\\varepsilon}\\right)  }{1-\\exp\\left(  -\\frac{1}{\\varepsilon}\\right)}\\hspace{1cm} \\forall x\\in\\left[  0,1\\right] \n",
    "$$\n",
    "\n",
    "a. Para una discretización uniforme con $N \\in \\{5, 10, 20\\}$ elementos (es decir, $h_j = h = \\frac{1}{N+1}$), calcule la solución numérica cuando $\\varepsilon = 1$. Grafique todas las soluciones numéricas y la solución analítica (esta última discretizada en una gran cantidad de puntos equiespaciados) en una misma gráfica. Comente sus observaciones."
   ]
  },
  {
   "cell_type": "code",
   "execution_count": 20,
   "metadata": {},
   "outputs": [],
   "source": [
    "#Parametros\n",
    "f= lambda x: 1\n",
    "a= 1\n",
    "b= 0\n",
    "ualpha= 0\n",
    "ubeta= 0\n",
    "u = []\n",
    "for N in [5, 10, 20]:\n",
    "    h = 1/(N+1)\n",
    "    eps = 1\n",
    "    x = np.array([h*k for k in range(N+2)])\n",
    "    uN = Resuelve(x,ualpha,ubeta,eps,a,b,f)\n",
    "    u.append(uN)"
   ]
  },
  {
   "cell_type": "code",
   "execution_count": null,
   "metadata": {},
   "outputs": [],
   "source": [
    "u0 = lambda x: "
   ]
  },
  {
   "cell_type": "code",
   "execution_count": 22,
   "metadata": {},
   "outputs": [
    {
     "data": {
      "text/plain": [
       "[<matplotlib.lines.Line2D at 0x25d83682e80>]"
      ]
     },
     "execution_count": 22,
     "metadata": {},
     "output_type": "execute_result"
    },
    {
     "data": {
      "image/png": "[encoded data removed]",
      "text/plain": [
       "<Figure size 432x288 with 1 Axes>"
      ]
     },
     "metadata": {
      "needs_background": "light"
     },
     "output_type": "display_data"
    }
   ],
   "source": [
    "plt.plot(u[-1])\n",
    "plt.plot()"
   ]
  },
  {
   "cell_type": "markdown",
   "metadata": {},
   "source": [
    "b. Repita lo anterior para $\\varepsilon = 10^{−j}$ , con $j \\in \\{1, 2, 3\\}$ y $N \\in \\{10, 25, 50, 100, 250, 500, 1000\\}$. Gráfique los tres primeros valores de $N$ en una figura, los dos siguientes en una distinta y los últimos dos en otra. \n",
    "    \n",
    "Comente sus observaciones."
   ]
  },
  {
   "cell_type": "code",
   "execution_count": null,
   "metadata": {},
   "outputs": [],
   "source": []
  },
  {
   "cell_type": "markdown",
   "metadata": {},
   "source": [
    "##### Estimación del error\n",
    "\n",
    "\n",
    "**Teorema:** Sean $\\alpha,\\beta,u_{\\alpha},u_{\\beta}\\in\\mathbb{R}$, $\\varepsilon>0$,\n",
    "$\\Omega=\\left(  \\alpha,\\beta\\right)  $, $a\\in W^{1,\\infty}\\left(\n",
    "\\Omega\\right)  $, $b\\in L^{\\infty}\\left(  \\Omega\\right)  $ y $f\\in\n",
    "L^{2}\\left(  \\Omega\\right)  $. \n",
    "Considere $u$ y $u_{h}$ soluciones únicas de (FV) y (FVD), respectivamente. Entonces, existen constantes $C_{0}>0$ y $C_{1}>0$, independientes de $h$, tales que:\n",
    "$$\n",
    "\\left\\Vert u-u_{h}\\right\\Vert _{0,\\Omega}\\leq C_{0}h^{2}\\hspace{1cm\n",
    "}\\left\\vert u-u_{h}\\right\\vert _{1,\\Omega}\\leq C_{1}h\n",
    "$$\n",
    "\n",
    "\n",
    "Para hacer este cálculo de forma eficiente, se elegirá una regla de cuadratura conveniente. En primer lugar,\n",
    "$$\\left\\Vert u-u_{h}\\right\\Vert _{0,\\Omega}^{2}=\\sum_{j=1}^{N}\\int_{T_{j}%\n",
    "}\\left(  u\\left(  x\\right)  -u_{h}\\right)  ^{2}\\text{ }dx\n",
    "$$\n",
    "donde $u_{h}$ es de grado a lo más $1$. Aplicando la regla de Simpson, se\n",
    "tiene que:\n",
    "$$\n",
    "\\left\\Vert u-u_{h}\\right\\Vert _{0,\\Omega}^{2}=\\sum_{j=1}^{N}\\dfrac{h_{j}}{6}\\left[  \\left(  u\\left(  x_{j}\\right)  -u_{j}^{h}\\right)  ^{2}+4\\left(\n",
    "u\\left(  \\bar{x}_{j}\\right)  -\\dfrac{u_{j}^{h}+u_{j}^{h}}{2}\\right)\n",
    "^{2}+\\left(  u\\left(  x_{j+1}\\right)  -u_{j+1}^{h}\\right)  ^{2}\\right]\n",
    "+\\mathcal{O}\\left(  h_{j}^{5}\\right)\n",
    "$$\n",
    "Luego, repitiendo el mismo análisis, se tiene que:\n",
    "$$\n",
    "\\left\\vert u-u_{h}\\right\\vert _{1,\\Omega}^{2}=\\sum_{j=1}^{N}\\int_{T_{j}%\n",
    "}\\left(  u^{\\prime}\\left(  x\\right)  -u_{h}^{\\prime}\\right)  ^{2}\\text{ }dx\n",
    "$$\n",
    "donde $u_{h}^{\\prime}$ es una función constante a trozos. Entonces, aplicando\n",
    "la regla del punto medio, se cumple que:\n",
    "$$\n",
    "\\left\\vert u-u_{h}\\right\\vert _{1,\\Omega}^{2}=\\sum_{j=1}^{N}h_{j}\\left(\n",
    "u^{\\prime}\\left(  \\bar{x}_{j}\\right)  -\\dfrac{u_{j+1}-u_{j}}{h_{j}}\\right)\n",
    "^{2}+\\mathcal{O}\\left(  h_{j}^{3}\\right)\n",
    "$$\n",
    "\n",
    "\n",
    "\n",
    "\n",
    "c. Considere ahora $\\varepsilon = 0.01$ y una discretización uniforme con $N \\in \\{5, 10, 20, 40, 80, 160, 320, 640, 1280\\}$ elementos (es decir, $h_j = h = \\frac{1}{N}$). Estime el error en las normas $L^2(\\Omega)$, $H^1(\\Omega)$ y en la seminorma de $H^1(\\Omega)$, grafíquelos y tabúlelos en función de $h$. Para ello, cree una función que permita obtener esos errores. Dicha función debe tener como entradas la discretización del dominio, el vector solución del primer ejercicio, la solución real y su derivada. Las salidas deben ser las normas del error en los espacios $L^2(\\Omega)$ y $H^1(\\Omega)$, y la seminorma del error en el espacio $H^1(\\Omega)$. \n",
    "\n",
    "Comente sus resultados.\n",
    "    \n",
    "**Indicación:** Puede ser útil usar escala logarítmica para la gráfica de errores. Asimismo, puede resultar útil usar curvas de la forma $Ch$ o $Ch^2$ para comparar las curvas de error con sus respectivos ordenes de convergencia."
   ]
  },
  {
   "cell_type": "code",
   "execution_count": 2,
   "metadata": {
    "scrolled": true
   },
   "outputs": [],
   "source": [
    "def calcular_errores(eps, Ns, f):\n",
    "    \"\"\"Calcula el error de la solucion al problema (1) para una lista de valores de N\"\"\"\n",
    "   \n",
    "    return hs, error\n"
   ]
  },
  {
   "cell_type": "code",
   "execution_count": null,
   "metadata": {},
   "outputs": [],
   "source": [
    "def tabulador(eps, Ns, f):\n",
    "    \n",
    "    return "
   ]
  },
  {
   "cell_type": "markdown",
   "metadata": {},
   "source": [
    "### **Ejercicio 3:** \n",
    "Considere $f\\equiv1$, $a=0$, $b=1$ y $\\Omega=\\left(  0,1\\right)  $.\n",
    "\n",
    "Para $u_{\\alpha}=1, u_{\\beta}=0$, la solución analítica de $\\textbf{(P)}$ es única e igual a la\n",
    "función\n",
    "$$\n",
    "u(x)=1-\\dfrac\n",
    "{\\sinh\\left(\\varepsilon^{\\frac{-1}{2}}x\\right)  }{\\sinh\\left(\\varepsilon^{\\frac{-1}{2}}\\right)}\\hspace{1cm} \\forall x\\in\\left[  0,1\\right] \n",
    "$$\n",
    "\n",
    "a. Para una discretización uniforme con $N \\in \\{5, 10, 20, 40, 80\\}$ elementos (es decir, $h_j = h = \\frac{1}{N+1}$), calcule la solución numérica cuando $\\varepsilon = 1$. Grafique todas las soluciones numéricas y la solución analítica (esta última discretizada en una gran cantidad de puntos equiespaciados) en una misma gráfica. Comente sus observaciones."
   ]
  },
  {
   "cell_type": "code",
   "execution_count": 3,
   "metadata": {
    "scrolled": true
   },
   "outputs": [],
   "source": [
    "#Parametros\n",
    "f=\n",
    "a=\n",
    "b=\n",
    "ualpha=\n",
    "ubeta="
   ]
  },
  {
   "cell_type": "code",
   "execution_count": 4,
   "metadata": {},
   "outputs": [],
   "source": []
  },
  {
   "cell_type": "markdown",
   "metadata": {},
   "source": [
    "b. Repita lo anterior para $\\varepsilon = 10^{−j}$ , con $j \\in \\{1, 2, 3\\}$ y $N \\in \\{10, 25, 50, 100, 250, 500, 1000\\}$. Gráfique los tres primeros valores de $N$ en una figura, los dos siguientes en una distinta y los últimos dos en otra. \n",
    "    \n",
    "    Comente sus observaciones."
   ]
  },
  {
   "cell_type": "code",
   "execution_count": null,
   "metadata": {},
   "outputs": [],
   "source": []
  },
  {
   "cell_type": "markdown",
   "metadata": {},
   "source": [
    "c. Considere ahora $\\varepsilon = 10^{-4}$ y una discretización uniforme con $N \\in \\{5, 10, 20, 40, 80, 160, 320, 640, 1280\\}$ elementos (es decir, $h_j = h = \\frac{1}{N+1}$). Estime el error en las normas $L^2(\\Omega)$, $H^1(\\Omega)$ y en la seminorma de $H^1(\\Omega)$, grafíquelos y tabúlelos en función de $h$. Para ello, cree una función que permita obtener esos errores. Dicha función debe tener como entradas la discretización del dominio, el vector solución del primer ejercicio, la solución real y su derivada. Las salidas deben ser las normas del error en los espacios $L^2(\\Omega)$ y $H^1(\\Omega)$, y la seminorma del error en el espacio $H^1(\\Omega)$. \n",
    "\n",
    "    Comente sus resultados.\n",
    "    \n",
    "    **Indicación:** Puede ser útil usar escala logarítmica para la gráfica de errores. Asimismo, puede resultar útil usar curvas de la forma $Ch$ o $Ch^2$ para comparar las curvas de error con sus respectivos ordenes de convergencia."
   ]
  },
  {
   "cell_type": "code",
   "execution_count": 4,
   "metadata": {
    "scrolled": true
   },
   "outputs": [],
   "source": [
    "def calcular_errores(eps, Ns, f):\n",
    "    \"\"\"Calcula el error de la solucion al problema (2) para una lista de valores de N\"\"\"\n",
    "   \n",
    "    \n",
    "    return hs,error"
   ]
  },
  {
   "cell_type": "code",
   "execution_count": 5,
   "metadata": {},
   "outputs": [],
   "source": [
    "def tabulador(eps, Ns, f):\n",
    "    \n",
    "    return "
   ]
  }
 ],
 "metadata": {
  "kernelspec": {
   "display_name": "Python 3",
   "language": "python",
   "name": "python3"
  },
  "language_info": {
   "codemirror_mode": {
    "name": "ipython",
    "version": 3
   },
   "file_extension": ".py",
   "mimetype": "text/x-python",
   "name": "python",
   "nbconvert_exporter": "python",
   "pygments_lexer": "ipython3",
   "version": "3.8.12"
  }
 },
 "nbformat": 4,
 "nbformat_minor": 4
}
