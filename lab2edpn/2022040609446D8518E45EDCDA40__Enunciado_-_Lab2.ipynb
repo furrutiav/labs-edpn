{
 "cells": [
  {
   "cell_type": "code",
   "execution_count": 1,
   "metadata": {},
   "outputs": [
    {
     "name": "stdout",
     "output_type": "stream",
     "text": [
      "Requirement already satisfied: celluloid in c:\\users\\felip\\anaconda3\\lib\\site-packages (0.2.0)\n",
      "Requirement already satisfied: matplotlib in c:\\users\\felip\\anaconda3\\lib\\site-packages (from celluloid) (3.5.0)\n",
      "Requirement already satisfied: kiwisolver>=1.0.1 in c:\\users\\felip\\anaconda3\\lib\\site-packages (from matplotlib->celluloid) (1.3.1)\n",
      "Requirement already satisfied: numpy>=1.17 in c:\\users\\felip\\anaconda3\\lib\\site-packages (from matplotlib->celluloid) (1.22.2)\n",
      "Requirement already satisfied: pyparsing>=2.2.1 in c:\\users\\felip\\anaconda3\\lib\\site-packages (from matplotlib->celluloid) (3.0.4)\n",
      "Requirement already satisfied: packaging>=20.0 in c:\\users\\felip\\anaconda3\\lib\\site-packages (from matplotlib->celluloid) (21.3)\n",
      "Requirement already satisfied: fonttools>=4.22.0 in c:\\users\\felip\\anaconda3\\lib\\site-packages (from matplotlib->celluloid) (4.25.0)\n",
      "Requirement already satisfied: pillow>=6.2.0 in c:\\users\\felip\\anaconda3\\lib\\site-packages (from matplotlib->celluloid) (8.4.0)\n",
      "Requirement already satisfied: cycler>=0.10 in c:\\users\\felip\\anaconda3\\lib\\site-packages (from matplotlib->celluloid) (0.11.0)\n",
      "Requirement already satisfied: python-dateutil>=2.7 in c:\\users\\felip\\appdata\\roaming\\python\\python38\\site-packages (from matplotlib->celluloid) (2.8.1)\n",
      "Requirement already satisfied: six>=1.5 in c:\\users\\felip\\appdata\\roaming\\python\\python38\\site-packages (from python-dateutil>=2.7->matplotlib->celluloid) (1.14.0)\n"
     ]
    }
   ],
   "source": [
    "!pip install celluloid"
   ]
  },
  {
   "cell_type": "code",
   "execution_count": 2,
   "metadata": {},
   "outputs": [],
   "source": [
    "import pandas as pd\n",
    "import numpy as np\n",
    "import scipy as sp\n",
    "from scipy.sparse import diags, csr_matrix\n",
    "from scipy.sparse.linalg import spsolve, norm #, inv, eigsh\n",
    "\n",
    "import matplotlib.pyplot as plt\n",
    "from matplotlib.gridspec import GridSpec\n",
    "from matplotlib import rc\n",
    "\n",
    "#rc('text', usetex=False) # para usar latex en matplotlib\n",
    "\n",
    "from celluloid import Camera #pip install celluloid si es que no lo tienen."
   ]
  },
  {
   "cell_type": "markdown",
   "metadata": {},
   "source": [
    "*Universidad de Chile*  \n",
    "*Facultad de Ciencias Físicas y Matemáticas*  \n",
    "*Departamento de Ingeniería Matemática*\n",
    "\n",
    "**MA5307-1 Análisis Numérico de EDP: Teoría y Laboratorio**  \n",
    "**Profesor:** Axel Osses  \n",
    "**Auxiliares:** Emir Chacra"
   ]
  },
  {
   "cell_type": "markdown",
   "metadata": {},
   "source": [
    "# Laboratorio 3\n",
    "\n",
    "El objetivo de esta sesión es aplicar el método de diferencias finitas en varias variables para problemas de primer orden. Para ello, se estudiará la ecuación de advección de primer orden y la ecuación de Burgers, un modelo no lineal que permite modelar el tráfico vehicular.\n",
    "\n",
    "## Ecuación de Advección\n",
    "\n",
    "Sea un intervalo acotado $\\Omega=\\left(  a,b\\right)  \\subseteq\\mathbb{R}$ y $\\alpha>0$. Considere la el problema de advección de primer orden dado por \n",
    "$$\n",
    "\\begin{equation}\n",
    "\\left.\n",
    "\\begin{array}\n",
    "[c]{rll}\n",
    "\\dfrac{\\partial u}{\\partial t}+\\alpha\\dfrac{\\partial u}{\\partial x}= &\n",
    "0 & \\qquad \\text{para }\\left(  t,x\\right)  \\in\\mathbb{R}^{+}\\times\\Omega\\\\\n",
    "u\\left(  0,x\\right)  = & u_{0}\\left(  x\\right)  & \\qquad \\text{para }x\\in\\Omega\n",
    "\\end{array}\n",
    "\\right\\} \\qquad (1)\n",
    "\\end{equation}\n",
    "$$"
   ]
  },
  {
   "cell_type": "markdown",
   "metadata": {},
   "source": [
    "Existen varios esquemas numéricos basados en diferencias finitas para analizar esta ecuación, pero tienen diversas particularidades. Elegir uno de ellos por sobre otro es una tarea difícil.\n",
    "\n",
    "Sean $\\Delta t>0$ y $N\\in\\mathbb{N}$. Definiendo $t_{n}=n\\Delta t$ para $n\\in\\mathbb{N} \\cup \\left\\{  0\\right\\}  $, $\\Delta x=\\dfrac{b-a}{N+1}$ y $x_{j}=a+j\\Delta x$, para $j\\in\\{0,1,\\ldots,N+1\\}$; se denota $u_{j}^{n} = u\\left(  t_{n},x_{j}\\right)$. Los esquemas de tipo Lax son algunos de los más usados para resolver este tipo de problemas, siendo los más simples los esquemas de Lax-Friedrichs y de Lax-Wendroff, dados por\n",
    "\n",
    "**a.** Lax-Friedrichs\n",
    "$$\n",
    "\\dfrac{2u_{j}^{n+1}-\\left(  u_{j+1}^{n}+u_{j-1}^{n}\\right)  }{2\\Delta\n",
    "t}+\\alpha\\dfrac{u_{j+1}^{n}-u_{j-1}^{n}}{2\\Delta x}=0\n",
    "$$\n",
    "\n",
    "\n",
    "**b.** Lax-Wendroff\n",
    "$$\n",
    "\\dfrac{u_{j}^{n+1}-u_{j}^{n}}{\\Delta t}+\\alpha\\dfrac{u_{j+1}^{n}-u_{j-1}^{n}%\n",
    "}{2\\Delta x}-\\alpha^{2}\\Delta t\\dfrac{u_{j+1}^{n}-2u_{j}^{n}+u_{j-1}^{n}%\n",
    "}{2\\Delta x^2}=0\n",
    "$$"
   ]
  },
  {
   "cell_type": "markdown",
   "metadata": {},
   "source": [
    "### Ejercicio 1\n",
    "\n",
    "Sean $\\alpha,T>0$. Considere el siguiente problema\n",
    "$$\n",
    "\\begin{array}{rll}\n",
    "\\displaystyle{\\frac{\\partial u}{\\partial t}+\\alpha\\frac{\\partial u}{\\partial x}}  &\n",
    "=0 & \\qquad\\text{para }\\left(  t,x\\right)  \\in(0,T)\\times\\left(  0,1\\right) \\\\\n",
    "u(t,x+1)  &  =u(t,x) & \\qquad\\text{para }\\left(  t,x\\right)  \\in\\lbrack\n",
    "0,T)\\times\\left[  0,1\\right] \\\\\n",
    "u\\left(  0,x\\right)   &  =u_{0}(x) & \\qquad\\text{para }x\\in\\left[  0,1\\right]\n",
    "\\end{array}\n",
    "$$\n",
    "\n",
    "**a.** Programe una función que resuelva numéricamente esta ecuación por cada uno de los esquemas numéricos presentados anteriormente. Las entradas de cada programa deben ser $\\alpha$, $\\Delta t$, $N_{T}$, $N$ y $u_{0}$, donde $N_{T}$ es un entero tal que $N_{T}\\Delta t=T$."
   ]
  },
  {
   "cell_type": "code",
   "execution_count": 23,
   "metadata": {},
   "outputs": [],
   "source": [
    "def resolver_adveccion(a, b, alpha, dt, NT, N, u0, esquema):\n",
    "    \"\"\"Resuelve la ecuacion de adveccion $\\partial_t u + \\alpha \\partial_x u = 0$\n",
    "    con condiciones periodicas, en el dominio (a,b) y un intervalo de tiempo [0,T].\n",
    "    -------\n",
    "    Input:\n",
    "    - a: float\n",
    "        Extremo izquierdo del dominio\n",
    "    - b: float > a\n",
    "        Extremo derecho del dominio\n",
    "    - alpha: float\n",
    "    - dt: float\n",
    "        paso temporal para el que se resolvera la ecuacion\n",
    "    - NT: int\n",
    "        Cumple NT * dt = T\n",
    "    - N: int\n",
    "        Cantidad de subintervalos en que se discretizara el dominio. El paso espacial sera 1/N.\n",
    "    - u0: callable\n",
    "        Funcion con la condicion inicial del problema\n",
    "    - esquema: {'LW', 'LF'}\n",
    "        Esquema usado para resolver la ecuacion.\n",
    "        - 'LW': Lax Wendroff\n",
    "        - 'LF': Lax Friedrich\n",
    "    -------\n",
    "    Output:\n",
    "    - x: numpy array, largo N+1\n",
    "        Discretizacion del dominio donde se calculo la solucion\n",
    "    - U: numpy array de (N+1)x(NT+1)\n",
    "        Solucion, evaluada en la grilla en cada paso de tiempo. U[j,n] es la solucion en x_j, \n",
    "        en el tiempo t = n*dt.\n",
    "    -------\n",
    "    \"\"\"\n",
    "    e = np.ones(N+2) #Este comando define un vector de largo n lleno de 1's. Existe también np.zeros.\n",
    "    f = np.ones(N+1)\n",
    "    dx = (b-a)/(N+1)\n",
    "    if esquema == \"LW\":\n",
    "        lambda_ = alpha*dt/dx\n",
    "        \n",
    "        a0 = (1-lambda_**2)\n",
    "        a1 = 0.5*lambda_*(lambda_-1)\n",
    "        a_1 = 0.5*lambda_*(lambda_+1)\n",
    "\n",
    "        k = np.array([a1, a_1*f,a0*e,a1*f, a_1], dtype= object) \n",
    "        offset = [-(N+1), -1,0,1, N+1]\n",
    "        A_LW = diags(k,offset)\n",
    "\n",
    "        x = [a+i*dx for i in range(N+2)]\n",
    "        U = np.zeros((N+2, NT+1))\n",
    "        \n",
    "        U[:, 0] = u0\n",
    "        ut_1 = u0\n",
    "        for nt in range(1, NT+1):\n",
    "#             print(nt)\n",
    "            ut = A_LW@ut_1\n",
    "            ut_1 = ut\n",
    "            U[:, nt] = ut\n",
    "    elif esquema== \"LF\":\n",
    "        a0 = 0\n",
    "        a1 = 0.5 - dt*0.5*alpha/dx\n",
    "        a_1 = 0.5 + dt*0.5*alpha/dx\n",
    "        print(a_1, a0, a1)\n",
    "\n",
    "        k = np.array([a1, a_1*f,a0*e,a1*f, a_1], dtype= object) \n",
    "        offset = [-(N+1), -1,0,1, N+1]\n",
    "        A_LW = diags(k,offset)\n",
    "\n",
    "        x = [a+i*dx for i in range(N+2)]\n",
    "        U = np.zeros((N+2, NT+1))\n",
    "        print(len(u0))\n",
    "        U[:, 0] = u0\n",
    "        ut_1 = u0\n",
    "        for nt in range(1, NT+1):\n",
    "#             print(nt)\n",
    "            ut = A_LW@ut_1\n",
    "            ut_1 = ut\n",
    "            U[:, nt] = ut\n",
    "        \n",
    "\n",
    "    return x, U"
   ]
  },
  {
   "cell_type": "markdown",
   "metadata": {},
   "source": [
    "**b.** Considere $\\Delta x=0.01$, $\\alpha=1$, $\\Delta t = \\frac{\\lambda}{\\alpha}\\Delta x$, $T=2$ y la condición inicial $u_{0}\\left(  x\\right)  =\\sin\\left(  2\\pi x\\right)  $. Calcule la solución numérica para $\\lambda\\in\\left\\{  0.8,0.4,0.1\\right\\}  $ y, para cada valor de $\\lambda$, grafique las soluciones numéricas de cada método junto con la solución exacta.\n",
    "\n",
    "Discuta los resultados en función de $\\lambda$ y del tipo de\n",
    "ecuación equivalente asociada a cada esquema.\n",
    "\n",
    "**Indicación:** Utilice animaciones para observar la evolución de las soluciones."
   ]
  },
  {
   "cell_type": "code",
   "execution_count": 24,
   "metadata": {},
   "outputs": [
    {
     "name": "stdout",
     "output_type": "stream",
     "text": [
      "0.9 0 0.09999999999999998\n",
      "101\n"
     ]
    }
   ],
   "source": [
    "params = {\"dx\": 0.01, \"alpha\": 1, \"T\":2, \"lambda\": [0.8, 0.4, 0.1]}\n",
    "\n",
    "ULF_lambda = {str(l): None for l in params[\"lambda\"]}\n",
    "ULW_lambda = {str(l): None for l in params[\"lambda\"]}\n",
    "\n",
    "dt = params[\"dx\"]*params[\"lambda\"][0]/params[\"alpha\"]\n",
    "NT = int(params[\"T\"]/dt)\n",
    "N = int(1/params[\"dx\"] - 1)\n",
    "u0= [np.sin(2*np.pi*n*dt) for n in range(N+2)]\n",
    "\n",
    "x, U = resolver_adveccion(0, 1, params[\"alpha\"], dt, NT, N, u0, \"LF\")\n",
    "ULF_lambda[\"0.8\"] = U\n",
    "\n",
    "ULW_lambda[\"0.8\"] = resolver_adveccion(0, 1, params[\"alpha\"], dt, NT, N, u0, \"LW\")[1]\n"
   ]
  },
  {
   "cell_type": "code",
   "execution_count": 7,
   "metadata": {},
   "outputs": [],
   "source": [
    "def animar_soluciones(x,ULF, ULW, UUW, alpha, dt, NT, N, u, file_name):\n",
    "    \"\"\"\n",
    "    --------\n",
    "    Input:\n",
    "    - x: array\n",
    "        Discretizacion de [0,1]\n",
    "    - ULF, ULW, UUW: array\n",
    "        Soluciones obtenidas con `resolver_adveccion` con los metodos LF, LW y UW respect.\n",
    "    - u: callable\n",
    "        Funcion que entrega la solucion real de la ecuacion.\n",
    "    --------\n",
    "    \"\"\"\n",
    "    \n",
    "    fig = plt.figure(figsize = (10,5))\n",
    "    #Definir parámetros de la figura\n",
    "    \n",
    "    #Inicializar animacion\n",
    "    camera = Camera(fig)\n",
    "    U = ULF\n",
    "    #Comenzar a graficar\n",
    "    for n in range(NT+1):\n",
    "        #Graficos\n",
    "        plt.plot(U[:,n], color=\"tab:blue\");\n",
    "        #Toma foto\n",
    "        plt.title(file_name)\n",
    "        camera.snap()\n",
    "        \n",
    "    \n",
    "    #Exportar animaciones\n",
    "    anim = camera.animate(blit=False, interval=100)\n",
    "    name_gif = f'discretizacion_{file_name}.gif'\n",
    "    anim.save(name_gif, writer='Pillow', fps=10);\n",
    "    return name_gif"
   ]
  },
  {
   "cell_type": "code",
   "execution_count": 25,
   "metadata": {},
   "outputs": [
    {
     "name": "stderr",
     "output_type": "stream",
     "text": [
      "MovieWriter Pillow unavailable; using Pillow instead.\n",
      "MovieWriter Pillow unavailable; using Pillow instead.\n"
     ]
    },
    {
     "data": {
      "text/plain": [
       "'discretizacion__LW_0.8.gif'"
      ]
     },
     "execution_count": 25,
     "metadata": {},
     "output_type": "execute_result"
    },
    {
     "data": {
      "image/png": "[encoded data removed]",
      "text/plain": [
       "<Figure size 720x360 with 1 Axes>"
      ]
     },
     "metadata": {
      "needs_background": "light"
     },
     "output_type": "display_data"
    },
    {
     "data": {
      "image/png": "[encoded data removed]",
      "text/plain": [
       "<Figure size 720x360 with 1 Axes>"
      ]
     },
     "metadata": {
      "needs_background": "light"
     },
     "output_type": "display_data"
    }
   ],
   "source": [
    "ULF = ULF_lambda[\"0.8\"]\n",
    "animar_soluciones(x,ULF, None, None, params[\"alpha\"], dt, NT, N, None, \"_LF_0.8\")\n",
    "ULW = ULW_lambda[\"0.8\"]\n",
    "animar_soluciones(x,ULW, None, None, params[\"alpha\"], dt, NT, N, None, \"_LW_0.8\")"
   ]
  },
  {
   "cell_type": "markdown",
   "metadata": {},
   "source": [
    "Lax-F\n",
    "<img src='discretizacion__LF_0.8.gif' width=\"750\" align=\"center\">\n",
    "\n",
    "Lax-W\n",
    "<img src='discretizacion__LW_0.8.gif' width=\"750\" align=\"center\">"
   ]
  },
  {
   "cell_type": "markdown",
   "metadata": {},
   "source": [
    "**c.** Repita lo anterior, considerando ahora la condición inicial\n",
    "$$\n",
    "u_{0}\\left(  x\\right)  =\\left\\{\n",
    "\\begin{array}\n",
    "[c]{cl}\n",
    "1/2 & \\text{si }x\\in\\left[  0.3,0.7\\right]  \\\\\n",
    "-1/2 & \\text{si }x\\in\\left[  0,1\\right]  \\setminus [  0.3,0.7]\n",
    "\\end{array}\n",
    "\\right.\n",
    "$$\n",
    "\n",
    "**Indicación.** Considere una extensión periódica de $u_{0}$, la cual puede ser útil para graficar la solución real."
   ]
  },
  {
   "cell_type": "code",
   "execution_count": null,
   "metadata": {},
   "outputs": [],
   "source": []
  },
  {
   "cell_type": "markdown",
   "metadata": {},
   "source": [
    "## Ecuación de Burgers aplicado al tráfico vehicular\n",
    "\n",
    "Uno de los problemas más complicados en la ingeniería de transporte es modelar el funcionamiento de los semáforos. Un modelo continuo para el tráfico vehicular en una única pista, donde no se permite adelantar un automóvil, está dado por la ecuación de Burgers. Asuma que la velocidad máxima está dada por $V$ y la densidad de vehículos por unidad de longitud está dada por $D>0$. Si la velocidad $v$ y la densidad $\\rho$ se relacionan mediante la ley\n",
    "$$\n",
    "v=V\\left(  1-\\dfrac{\\rho}{D}\\right)  \\qquad \\text{ para }\\rho\\in\\left[\n",
    "0,D\\right]\n",
    "$$\n",
    "y se define $u=1-\\dfrac{2\\rho}{D}$, se puede probar que se cumple la ecuación dada por\n",
    "$$\n",
    "\\begin{equation}\n",
    "\\left.\n",
    "\\begin{array}\n",
    "[c]{rll}\n",
    "\\dfrac{\\partial u}{\\partial t}+u\\dfrac{\\partial u}{\\partial x}= &\n",
    "0 & \\qquad \\text{para }\\left(  t,x\\right)  \\in\\mathbb{R}^{+}\\times\\Omega\\\\\n",
    "u\\left(  0,x\\right)  = & u_{0}\\left(  x\\right)  & \\qquad \\text{para }x\\in\\Omega\n",
    "\\end{array}\n",
    "\\right\\} \\qquad (2)\n",
    "\\end{equation}\n",
    "$$\n",
    "donde $-1\\leq u\\leq1$. El valor $u=-1$ significa que los vehículos no se mueven, pues se llegó a la densidad máxima, mientras que el valor $u=1$ representa que un vehículo que pase por la vía puede ir a la velocidad máxima permitida, puesto que la vía está totalmente vacía.\n",
    "\n",
    "A diferencia de la primera ecuación analizada en este laboratorio, no es posible obtener una forma explícita para la solución de la ecuación de Burgers, aunque puede probarse que\n",
    "$$\n",
    "u\\left(  t,x\\right)  =u_{0}\\left(  x-u\\left(  t,x\\right)  t\\right)\n",
    "$$\n",
    "es una expresión implícita para la solución. Además, esta ecuación es no lineal, por lo que aplicar los mismos esquemas antes estudiados requiere un estudio más profundo.\n",
    "\n",
    "Otra forma de escribir esta ecuación es\n",
    "$$\n",
    "\\begin{equation}\n",
    "\\left.\n",
    "\\begin{array}\n",
    "[c]{rll}\n",
    "\\dfrac{\\partial u}{\\partial t}+\\dfrac{\\partial}{\\partial x}\\left[  \\dfrac\n",
    "{1}{2}u^{2}\\right]  = & 0 &\\qquad \\text{ para }\\left(  t,x\\right)  \\in\n",
    "\\mathbb{R}^{+}\\times\\Omega\\\\\n",
    "u\\left(  0,x\\right)  = & u_{0}\\left(  x\\right) &\\qquad \\text{ para }x\\in\\Omega\n",
    "\\end{array}\n",
    "\\right\\} \\qquad (3)\n",
    "\\end{equation}\n",
    "$$\n",
    "\n",
    "la cual se conoce como forma conservativa de la ecuación de Burgers. Esta forma es sumamente útil para presentar los esquemas de Lax-Friedrichs y Lax-Wendroff aplicados para esta ecuación. En general, dichos esquemas se presentan para ecuaciones de la forma $\\dfrac{\\partial u}{\\partial t}+\\dfrac{\\partial}{\\partial x}\\left[  f\\left(  u\\right)  \\right] =0$.\n",
    "\n",
    "Definiendo $\\lambda=\\dfrac{\\Delta t}{\\Delta x}$ y $f_{j}^{n}=f(\n",
    "u_{j}^{n})  $, se presentan los esquemas de Lax-Friedrichs y\n",
    "Lax-Wendroff en su forma conservativa\n",
    "\n",
    "$1)$ Lax Friedrichs conservativo:\n",
    "\n",
    "    1) Paso 1:\n",
    "$$\n",
    "F_{j}^{n} = \\frac{1}{2}(f_{j-1}^n + f_j^n) - \\frac{1}{2\\lambda}(u_j^n - u_{j-1}^n)\n",
    "$$\n",
    "\n",
    "    2) Paso 2:\n",
    "$$\n",
    "u_j^{n+1} = u_j^n - \\lambda (F_{j+1}^n - F_j^n)\n",
    "$$\n",
    "\n",
    "$2)$ Lax-Wendroff conservativo (esquema de Richtmyer)\n",
    "Es posible demostrar que estos esquemas son consistentes y convergentes, con\n",
    "los mismos órdenes que en el caso lineal.\n",
    "\n",
    "    1) Paso 1:\n",
    "$$\n",
    "u_{j+1/2}^n = \\frac{1}{2}(u_{j+1}^n + u_j^n) - \\frac{\\lambda}{2}(f_{j+1}^n - f_j^n)\n",
    "$$\n",
    "$$\n",
    "u_{j-1/2}^n = \\frac{1}{2}(u_{j}^n + u_{j-1}^n) - \\frac{\\lambda}{2}(f_{j}^n - f_{j-1}^n)\n",
    "$$\n",
    "\n",
    "    2) Paso 2:\n",
    "$$\n",
    "u_{j}^{n+1} =u_{j}^{n}-\\lambda\\left(  f\\left(  u_{j+1/2}^{n}\\right)-f\\left(  u_{j-1/2}^{n}\\right)  \\right)\n",
    "$$"
   ]
  },
  {
   "cell_type": "markdown",
   "metadata": {},
   "source": [
    "A continuación se simulará el efecto de un flujo de vehículos que entra a una calle a una velocidad mayor a la que tienen otros vehículos que circulan más adelante.\n",
    "\n",
    "## Ejercicio 2\n",
    "\n",
    "Sea $f$ una función de clase $\\mathcal{C}^{1}$, $T>0$ y $a,b\\in\\mathbb{R}$, con $a<b$. Considere la ecuación.\n",
    "$$\n",
    "\\begin{array}{rll}\n",
    "\\dfrac{\\partial u}{\\partial t}+\\dfrac{\\partial}{\\partial x}\\left[  f\\left(\n",
    "u\\right)  \\right]   &  =0 & \\qquad\\text{para }\\left(  t,x\\right)  \\in\n",
    "(0,T)\\times\\left(  a,b\\right)  \\\\\n",
    "u\\left(  t,a\\right)   &  =u_{a} & \\qquad\\text{para }t\\in\\left(  0,T\\right]  \\\\\n",
    "u\\left(  t,b\\right)   &  =u_{b} & \\qquad\\text{para }t\\in\\left(  0,T\\right]  \\\\\n",
    "u\\left(  0,x\\right)   &  =u_{0}(x) & \\qquad\\text{para }x\\in\\left[  0,1\\right]\n",
    "\\end{array}\n",
    "$$\n",
    "\n",
    "**a.** Implemente cada uno de los esquemas de Lax para resolver numéricamente esta ecuación mediante una función. Las entradas de cada programa deben ser la función $f$, $a$, $b$, las condiciones de frontera $u_{a}$ y $u_{b}$, $\\Delta t>0$, $N_{T}\\in\\mathbb{N}$ tal que $N_{T}\\Delta t=T$, $N\\in\\mathbb{N}$ como la cantidad de puntos interiores en su particion del intervalo $\\left[  a,b\\right]  $ y la condición inicial $u_{0}$ como un vector $\\boldsymbol{u}_{0}=\\left(  u_{j}^{0}\\right)  \\in\\mathbb{R}^{N+2}$."
   ]
  },
  {
   "cell_type": "code",
   "execution_count": 11,
   "metadata": {},
   "outputs": [],
   "source": [
    "def resolver_ej2(f, a, b, ua, ub, dt, N_T, N, u0, esquema):\n",
    "    if esquema == 'LF':\n",
    "        F = np.zeros((N+2,N_T))\n",
    "        u = np.zeros((N+2,N_T))  \n",
    "        for n in range(N_T):\n",
    "            u[0][n] = ua\n",
    "            u[N+1][n] = ub\n",
    "        dx = (b-a)/(N+1)\n",
    "        x = np.array([a+j*dx for j in range(N+2)])\n",
    "        lambda_ = dt/dx\n",
    "        for j in range(1,N+1):\n",
    "            u[j][0] = u0(a+j*dx)\n",
    "        for n in range(N_T-1):\n",
    "            F[1][n] = 0.5*(f(u[0][n])+f(u[1][n]))- (0.5/lambda_)*(u[1][n]-u[0][n])\n",
    "            for j in range(1,N+1):\n",
    "                F[j+1][n] = 0.5*(f(u[j][n])+f(u[j+1][n]))- (0.5/lambda_)*(u[j+1][n]-u[j][n])\n",
    "                u[j][n+1] = u[j][n] - lambda_*(F[j+1][n]-F[j][n])\n",
    "                \n",
    "    if esquema == 'LW':\n",
    "        F = np.zeros((N+2,N_T))\n",
    "        u = np.zeros((N+2,N_T))  \n",
    "        for n in range(N_T):\n",
    "            u[0][n] = ua\n",
    "            u[N+1][n] = ub\n",
    "        dx = (b-a)/(N+1)\n",
    "        x = np.array([a+j*dx for j in range(N+2)])\n",
    "        lambda_ = dt/dx\n",
    "        for j in range(1,N+1):\n",
    "            u[j][0] = u0(a+j*dx)\n",
    "        for n in range(N_T-1):\n",
    "            F[1][n] = 0.5*(u[0][n]+u[1][n]) - 0.5*lambda_*(f(u[1][n])-f(u[0][n]))\n",
    "            for j in range(1,N+1):\n",
    "                F[j+1][n] = 0.5*(u[j][n]+u[j+1][n]) - 0.5*lambda_*(f(u[j+1][n])-f(u[j][n]))\n",
    "                u[j][n+1] = u[j][n] - lambda_*(f(F[j+1][n])-f(F[j][n]))\n",
    "    return x, u"
   ]
  },
  {
   "cell_type": "markdown",
   "metadata": {},
   "source": [
    "\n",
    "**b.** Considere el dominio $\\Omega=\\left[  0,1\\right]  $, $D=1$, las condiciones de frontera $u\\left(  t,0\\right)  =0.5$ y $u\\left(  t,1\\right)  =0$ para todo $t>0$ y la condición inicial dada por\n",
    "$$\n",
    "u_{0}\\left(  x\\right)  =\\left\\{\n",
    "\\begin{array}\n",
    "[c]{cc}%\n",
    "0.5 & \\text{si }x<0.2\\\\\n",
    "0 & \\text{si }x\\geq0.2\n",
    "\\end{array}\n",
    "\\right.\n",
    "$$\n",
    "Resuelva numéricamente la ecuación de Burgers para este caso usando los esquemas conservativos de Lax-Friedrichs y Lax-Wendroff para $T=2$, $\\Delta x\\in\\left\\{  0.01,0.005,0.002\\right\\}  $ y $\\Delta t=0.5\\Delta x$. Grafique la velocidad y densidad apropiadamente."
   ]
  },
  {
   "cell_type": "code",
   "execution_count": 21,
   "metadata": {},
   "outputs": [
    {
     "name": "stdout",
     "output_type": "stream",
     "text": [
      "99 400\n"
     ]
    }
   ],
   "source": [
    "f = lambda x: 0.5*(x**2)\n",
    "a, b = 0, 1\n",
    "ua = 0.5\n",
    "ub = 0\n",
    "u0 = lambda x: 0.5 if x<0.2 else 0\n",
    "dx = 0.01\n",
    "dt = 0.5*dx\n",
    "T = 2\n",
    "N_T = int(T/dt)\n",
    "N = int((b-a)/dx -1)\n",
    "\n",
    "print(N, N_T)\n",
    "\n",
    "x, U = resolver_ej2(f, a, b, ua, ub, dt, N_T, N, u0, \"LW\")"
   ]
  },
  {
   "cell_type": "code",
   "execution_count": 19,
   "metadata": {},
   "outputs": [],
   "source": [
    "def animar_soluciones_ej2(x,ULF, ULW, dt, NT, N, file_name):\n",
    "    \"\"\"\n",
    "    --------\n",
    "    Input:\n",
    "    - x: array\n",
    "        Discretizacion de [0,1]\n",
    "    - ULF, ULF: array\n",
    "        Soluciones obtenidas con `resolver_ej2` con los metodos LFy LW respect.\n",
    "    --------\n",
    "    \"\"\"\n",
    "    \n",
    "    fig = plt.figure(figsize = (10,5))\n",
    "    #Definir parámetros de la figura\n",
    "    \n",
    "    #Inicializar animacion\n",
    "    camera = Camera(fig)\n",
    "    \n",
    "    U = ULF\n",
    "    #Comenzar a graficar\n",
    "    for n in range(NT):\n",
    "        #Graficos\n",
    "        plt.plot(U[:,n], color=\"tab:blue\");\n",
    "#         plt.xticks(range(N+2), x)\n",
    "        #Toma foto\n",
    "#         plt.title(file_name)\n",
    "        camera.snap()\n",
    "        \n",
    "    \n",
    "    #Exportar animaciones\n",
    "    anim = camera.animate(blit=False, interval=NT)\n",
    "    name_gif = f'discretizacion_{file_name}.gif'\n",
    "    anim.save(name_gif, writer='Pillow', fps=10);\n",
    "    return name_gif"
   ]
  },
  {
   "cell_type": "code",
   "execution_count": 22,
   "metadata": {
    "scrolled": true
   },
   "outputs": [
    {
     "name": "stderr",
     "output_type": "stream",
     "text": [
      "MovieWriter Pillow unavailable; using Pillow instead.\n"
     ]
    },
    {
     "data": {
      "text/plain": [
       "'discretizacion__LW_0.01.gif'"
      ]
     },
     "execution_count": 22,
     "metadata": {},
     "output_type": "execute_result"
    },
    {
     "data": {
      "image/png": "[encoded data removed]",
      "text/plain": [
       "<Figure size 720x360 with 1 Axes>"
      ]
     },
     "metadata": {
      "needs_background": "light"
     },
     "output_type": "display_data"
    }
   ],
   "source": [
    "\n",
    "animar_soluciones_ej2(x,U, None, dt, NT, N, \"_LW_0.01\")"
   ]
  },
  {
   "cell_type": "markdown",
   "metadata": {},
   "source": [
    "Lax-F\n",
    "<img src='discretizacion__LF_0.01.gif' width=\"750\" align=\"center\">\n",
    "Lax-W\n",
    "<img src='discretizacion__LW_0.01.gif' width=\"750\" align=\"center\">"
   ]
  },
  {
   "cell_type": "markdown",
   "metadata": {},
   "source": [
    "Ahora, se modelará el efecto de un semáforo en rojo, el cual cambiará a verde en un par de segundos. Para ello, considere que el tramo de vía a modelar es el intervalo $\\left[ 0,2\\right] $.\n",
    "\n",
    "Si existe un semáforo en $x=1$, nuestro dominio de interés para modelar el efecto de la luz roja mediante la ecuación de Burgers será el intervalo $\\left[  0,1\\right]  $. Suponga que los autos entran por $x=0$ a una velocidad constante, la cual se representará por $u\\left(  t,0\\right)  =u^{\\ast}$. Por otra parte, los vehículos deben detenerse frente al semáforo, por lo que\n",
    "$u(t,1)=-1$.\n",
    "\n",
    "Además, se asume que todos los vehículos circulaban a una velocidad inicial constante $u\\left(  0,x\\right)  =u^{\\ast}$ hasta que ven el semáforo en rojo. En el instante $t=T$ en que el semáforo cambia a verde, la densidad de vehículos es nula en $\\omega_{2}=\\left(  1,2\\right]  $. Luego, $u(T,x)=1$, para $x\\in\\omega_{2}$.\n",
    "\n",
    "### Ejercicio 3\n",
    "Simule el efecto del semáforo que cambia de color rojo a verde.\n",
    "\n",
    "\n",
    "**a.** Resuelva numéricamente la ecuación de Burgers para $t\\in\\left[0,2\\right]  $ en el dominio $\\omega_{1}=\\left[  0,1\\right]  $, considerando la condición inicial\n",
    "$$\n",
    "u\\left(  0,x\\right)  =\\left\\{\n",
    "\\begin{array}\n",
    "[c]{cl}%\n",
    "u^{\\ast} & \\text{si }0\\leq x<1\\\\\n",
    "-1 & \\text{si }x=1\n",
    "\\end{array}\n",
    "\\right.\n",
    "$$\n",
    "y las condiciones de frontera $u\\left(  t,0\\right)  =u^{\\ast}$ y $u(t,1)=-1$, con $u^{\\ast}=0.25$. Para ello, use el esquema de Lax-Friedrichs con $\\Delta x=0.002$ y $\\Delta t=0.1\\Delta x$, simulando un semáforo en rojo que dure $T=2$."
   ]
  },
  {
   "cell_type": "code",
   "execution_count": null,
   "metadata": {},
   "outputs": [],
   "source": []
  },
  {
   "cell_type": "markdown",
   "metadata": {},
   "source": [
    "\n",
    "**b.** Resuelva numéricamente la ecuación de Burgers para $t\\in\\left[2,4\\right]  $ y $\\Omega=\\omega_{1}\\cup\\omega_{2}=\\left[  0,2\\right]  $, considerando las condiciones de frontera $u\\left(  t,0\\right)  =u^{\\ast}$ y $u(t,2)=1$, y la condición inicial dada por\n",
    "$$\n",
    "u\\left(  2,x\\right)  =\\left\\{\n",
    "\\begin{array}\n",
    "[c]{cl}%\n",
    "u_{R}\\left(  2,x\\right)   & \\text{si }0\\leq x\\leq1\\\\\n",
    "1 & \\text{si }x>1\n",
    "\\end{array}\n",
    "\\right.\n",
    "$$\n",
    "donde $u_{R}\\left(  2,x\\right)  $ es la solución numérica resultante en el ejercicio anterior. Use los mismos parámetros y esquema que la parte anterior y grafique su solución solo en el conjunto $\\omega_1$."
   ]
  },
  {
   "cell_type": "code",
   "execution_count": null,
   "metadata": {},
   "outputs": [],
   "source": []
  },
  {
   "cell_type": "markdown",
   "metadata": {},
   "source": [
    "**c.** Interprete los resultados"
   ]
  }
 ],
 "metadata": {
  "kernelspec": {
   "display_name": "Python 3",
   "language": "python",
   "name": "python3"
  },
  "language_info": {
   "codemirror_mode": {
    "name": "ipython",
    "version": 3
   },
   "file_extension": ".py",
   "mimetype": "text/x-python",
   "name": "python",
   "nbconvert_exporter": "python",
   "pygments_lexer": "ipython3",
   "version": "3.8.12"
  }
 },
 "nbformat": 4,
 "nbformat_minor": 4
}
