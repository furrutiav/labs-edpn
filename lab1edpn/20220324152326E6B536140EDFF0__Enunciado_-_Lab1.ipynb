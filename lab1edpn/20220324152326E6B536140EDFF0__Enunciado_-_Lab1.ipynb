{
 "cells": [
  {
   "cell_type": "code",
   "execution_count": 7,
   "metadata": {},
   "outputs": [],
   "source": [
    "import numpy as np\n",
    "from scipy.sparse import diags, kron, csr_matrix, csc_matrix, identity\n",
    "from scipy.sparse.linalg import spsolve, norm, inv, eigsh\n",
    "import matplotlib.pyplot as plt\n",
    "from matplotlib import rc\n",
    "rc('text', usetex=True) # para usar latex en matplotlib"
   ]
  },
  {
   "cell_type": "markdown",
   "metadata": {},
   "source": [
    "*Universidad de Chile*  \n",
    "*Facultad de Ciencias Físicas y Matemáticas*  \n",
    "*Departamento de Ingeniería Matemática*\n",
    "\n",
    "**MA5307-1 Análisis Numérico de EDP: Teoría y Laboratorio**  \n",
    "**Profesor:** Axel Osses  \n",
    "**Auxiliares:** Emir Chacra y Vicente Salinas"
   ]
  },
  {
   "cell_type": "markdown",
   "metadata": {},
   "source": [
    "# Laboratorio 1\n",
    "\n",
    "El objetivo de esta sesión práctica es aprender a resolver EDP’s en 2\n",
    "dimensiones mediante el Método de las Diferencias Finitas.\n",
    "\n",
    "Específicamente se resolverá la ecuación de Poisson en un rectángulo unitario y en un dominio perforado, además se estudiará la aproximación para condiciones de borde en dominios con curvatura"
   ]
  },
  {
   "cell_type": "markdown",
   "metadata": {},
   "source": [
    "# Parte a"
   ]
  },
  {
   "cell_type": "markdown",
   "metadata": {},
   "source": [
    "\n",
    "## Ecuación de Poisson\n",
    "\n",
    "Considere la ecuación dada por\n",
    "\n",
    "$$\n",
    "\\begin{equation}\n",
    "\\left.\n",
    "\\begin{array}[c]{rll}\n",
    "-\\Delta u= & 0 & \\text{sobre }\\Omega=\\left[  0,1\\right]^{2}\\\\\n",
    "u(0,y)=u(1,y)= & 0 & \\text{en }0\\leq y\\leq 1\\\\\n",
    "u(x,0)= & 0 & \\text{en }0\\leq x\\leq 1\\\\\n",
    "u(x,1)= & g(x) & \\text{en }0\\leq x\\leq 1\n",
    "\\end{array}\n",
    "\\right\\} \\quad (1)\n",
    "\\end{equation}\n",
    "$$\n",
    "\n",
    "Sea $N\\in\\mathbb{N}$, considere la aproximación del cuadrado unitario dado por la malla de puntos\n",
    "$$\n",
    "\\Omega_{h}=\\left\\{  \\left(  x_{j},y_{k}\\right)  \\mid j,k\\in\\left\\{\n",
    "0,1,\\ldots,N+1\\right\\}  \\right\\}\n",
    "$$\n",
    "donde $x_{j}=jh$, $y_{k}=kh$, $h=\\dfrac{1}{N+1}$. Se define el operador laplaciano discretizado por 5 puntos como\n",
    "$$\n",
    "\\Delta_{N}u_{j,k}=\\dfrac{1}{h^{2}}\\left(  u_{j+1,k}+u_{j-1,k}\n",
    "+  u_{j,k-1}+u_{j,k+1}\n",
    "-4u_{jk}\\right)\n",
    "$$\n",
    "donde $u_{jk}$ aproxima a $u\\left(x_{j},y_{k}\\right)  $.\n",
    "\n",
    "Tomando $g(x) = \\sin(\\pi x)$, se puede demostrar que la solución única de esta ecuación está dada por\n",
    "\n",
    "$$u\\left(  x,y\\right)  =\\frac{\\sin\\left( \\pi x\\right)   \\sinh\\left( \\pi y\\right)  }{\\sinh\\left(  \\pi\\right) } $$"
   ]
  },
  {
   "cell_type": "markdown",
   "metadata": {},
   "source": [
    "**P1.** Escriba dos funciones que calculen $\\boldsymbol{A}_{h}$ y $\\boldsymbol{b}_{h}$ de la forma más simple posible. Las entradas para estas funciones deben ser $N$ y $g$.\n",
    "\n",
    "También escriba una función `solve` que, utilizando estas funciones (y las funciones auxiliares que necesite), entregue la solución aproximada.\n",
    "\n",
    "**Indicación.** Revise la documentación del comando `kron` (disponible a través de `scypy.sparse`)"
   ]
  },
  {
   "cell_type": "code",
   "execution_count": 22,
   "metadata": {},
   "outputs": [
    {
     "data": {
      "text/plain": [
       "matrix([[ 4., -1.,  0., -1.,  0.,  0.,  0.,  0.,  0.],\n",
       "        [-1.,  4., -1.,  0., -1.,  0.,  0.,  0.,  0.],\n",
       "        [ 0., -1.,  4.,  0.,  0., -1.,  0.,  0.,  0.],\n",
       "        [-1.,  0.,  0.,  4., -1.,  0., -1.,  0.,  0.],\n",
       "        [ 0., -1.,  0., -1.,  4., -1.,  0., -1.,  0.],\n",
       "        [ 0.,  0., -1.,  0., -1.,  4.,  0.,  0., -1.],\n",
       "        [ 0.,  0.,  0., -1.,  0.,  0.,  4., -1.,  0.],\n",
       "        [ 0.,  0.,  0.,  0., -1.,  0., -1.,  4., -1.],\n",
       "        [ 0.,  0.,  0.,  0.,  0., -1.,  0., -1.,  4.]])"
      ]
     },
     "execution_count": 22,
     "metadata": {},
     "output_type": "execute_result"
    }
   ],
   "source": [
    "N = 3\n",
    "e = np.ones(N)\n",
    "f = np.ones(N-1)\n",
    "k = np.array([-f,4*e,-f], dtype= object)\n",
    "offset = [-1,0,1]\n",
    "\n",
    "L4 = diags(k,offset)\n",
    "    \n",
    "I = identity(N)\n",
    "AL4 = kron(I, L4)\n",
    "    \n",
    "d0d = np.array([-f,0,-f], dtype= object)\n",
    "offset = [-1,0,1]\n",
    "D0D = diags(d0d,offset)\n",
    "\n",
    "A1 = kron(D0D, I)\n",
    "\n",
    "A = A1+AL4\n",
    "A.todense()"
   ]
  },
  {
   "cell_type": "code",
   "execution_count": 43,
   "metadata": {},
   "outputs": [],
   "source": [
    "def Ah(N):\n",
    "    e = np.ones(N)\n",
    "    f = np.ones(N-1)\n",
    "    k = np.array([-f,4*e,-f], dtype= object)\n",
    "    offset = [-1,0,1]\n",
    "\n",
    "    L4 = diags(k,offset)\n",
    "\n",
    "    I = identity(N)\n",
    "    AL4 = kron(I, L4)\n",
    "\n",
    "    d0d = np.array([-f,0,-f], dtype= object)\n",
    "    offset = [-1,0,1]\n",
    "    D0D = diags(d0d,offset)\n",
    "\n",
    "    A1 = kron(D0D, I)\n",
    "\n",
    "    A = A1+AL4\n",
    "    h = 1/(N+1)\n",
    "    return ((1/h)**2)*(A)\n",
    "\n",
    "\n",
    "def bh(N,f,g):\n",
    "    b = f\n",
    "    h = 1/(N+1)\n",
    "    for i in range(1, N+1):\n",
    "        xi = i*h\n",
    "        b[N*(N-1)+i-1] += g(xi)/h**2\n",
    "    return b \n",
    "\n",
    "def solve(N, f, g):\n",
    "    \"\"\"Resuelve el problema del laplaciano en 2D en (0,1)^2, con condiciones\n",
    "    Dirichlet en el borde, usando una grilla uniforme, con tamano de\n",
    "    paso h=1/N en x e y.\n",
    "    \"\"\"\n",
    "    A = Ah(N)\n",
    "    b = bh(N, f, g)\n",
    "    u = spsolve(A, b)\n",
    "    return u"
   ]
  },
  {
   "cell_type": "markdown",
   "metadata": {},
   "source": [
    "**P2.** Resuelva la ecuación para $N = 10, 20, 30, 40, 50$. Comente sus resultados."
   ]
  },
  {
   "cell_type": "code",
   "execution_count": 191,
   "metadata": {},
   "outputs": [],
   "source": [
    "params = {\"N\": [10, 20, 30, 40, 50]}\n",
    "g = lambda x: np.sin(np.pi*x)\n",
    "u = []\n",
    "for N in params[\"N\"]:\n",
    "    uN = solve(N, np.zeros(N**2), g)\n",
    "    u.append(uN)"
   ]
  },
  {
   "cell_type": "code",
   "execution_count": 192,
   "metadata": {},
   "outputs": [],
   "source": [
    "xx = np.linspace(0,1, 50)\n",
    "yy = xx.copy()\n",
    "X, Y = np.meshgrid(xx, yy, indexing=\"ij\")\n",
    "u_org = lambda x, y: np.sin(np.pi*x)*np.sinh(np.pi*y)/np.sinh(np.pi)\n",
    "Z = u_org(X, Y)"
   ]
  },
  {
   "cell_type": "code",
   "execution_count": 212,
   "metadata": {},
   "outputs": [
    {
     "data": {
      "image/png": "[encoded data removed]",
      "text/plain": [
       "<Figure size 1080x720 with 6 Axes>"
      ]
     },
     "metadata": {},
     "output_type": "display_data"
    }
   ],
   "source": [
    "fig, ax = plt.subplots(2, 3, figsize=(3*5, 2*5))\n",
    "for k in range(len(params[\"N\"])):\n",
    "    N = params[\"N\"][k]\n",
    "    i, j = k//3, k%3\n",
    "    axk = ax[i, j]\n",
    "#     axk.contourf(X,Y,u[k].reshape(N,N),100)\n",
    "    bu = np.zeros((N+2, N+2))\n",
    "    for i in range(N+2):\n",
    "        for j in range(N+2):\n",
    "            if 0<i<N+1:\n",
    "                if 0<j<N+1:\n",
    "                    bu[i, j] += u[k].reshape(N, N)[i-1, j-1]\n",
    "            if i == N+1:\n",
    "                h = 1/(N+1)\n",
    "                bu[i, j] += g(j*h)\n",
    "    axk.imshow(bu, origin=\"lower\")\n",
    "    axk.set_title(f\"Aproximación con N={N}\")\n",
    "#     axk.set_xtight([])\n",
    "    axk.set_xticks([])\n",
    "    axk.set_yticks([])\n",
    "\n",
    "axk = ax[1, 2]\n",
    "axk.imshow(Z.T, origin=\"lower\")\n",
    "axk.set_title(\"Original (N=50)\")\n",
    "axk.set_xticks([])\n",
    "axk.set_yticks([]);"
   ]
  },
  {
   "cell_type": "markdown",
   "metadata": {},
   "source": [
    "**P3.** Estudie el condicionamiento en norma $2$ de la Matriz $A_h$.\n",
    "\n",
    "**Indicación.** Sean $p\\in\\left[  1,+\\infty\\right]  $ y $\\boldsymbol{A}\\in\\mathbb{R}^{N\\times N}$. Se define la norma inducida $p$ de $\\boldsymbol{A}$ como\n",
    "$$\n",
    "\\left\\Vert \\boldsymbol{A}\\right\\Vert _{p}=\\sup\\limits_{\\boldsymbol{x\\in}\\mathbb{R}^{N}\\setminus\\left\\{  \\boldsymbol{0}\\right\\}  }\\dfrac{\\left\\Vert\\boldsymbol{Ax}\\right\\Vert _{p}}{\\left\\Vert \\boldsymbol{x}\\right\\Vert_{p}}\n",
    "$$\n",
    "y, si $\\boldsymbol{A}$ es invertible, el número de condición en norma inducida $p$ como $\\operatorname{cond}_{p}\\left(  \\boldsymbol{A}\\right)  =\\left\\Vert\n",
    "\\boldsymbol{A}\\right\\Vert _{p}\\left\\Vert \\boldsymbol{A}^{-1}\\right\\Vert _{p}$.\n",
    "\n",
    "En este caso particular, como $\\boldsymbol{A}_{h}$ es simétrica, el número de condición en la norma $2$ inducida puede calcularse como\n",
    "$$\n",
    "\\operatorname{cond}_{2}\\left(  \\boldsymbol{A}_{h}\\right)  =\\dfrac{\\lambda_{\\max,h}\\left(  \\boldsymbol{A}_{h}\\right)  }{\\lambda_{\\min,h}\\left(\\boldsymbol{A}_{h}\\right)}\n",
    "$$\n",
    "donde $\\lambda_{\\max,h}\\left(  \\boldsymbol{A}_{h}\\right)  =\\max\\left\\{\\left\\vert \\lambda\\right\\vert \\mid\\lambda\\in\\sigma\\left(  \\boldsymbol{A}_{h}\\right)  \\right\\}  $ y $\\lambda_{\\min,h}\\left(  \\boldsymbol{A}_{h}\\right)\n",
    "=\\min\\left\\{  \\left\\vert \\lambda\\right\\vert \\mid\\lambda\\in\\sigma\\left(\\boldsymbol{A}_{h}\\right)  \\right\\}  $."
   ]
  },
  {
   "cell_type": "code",
   "execution_count": 5,
   "metadata": {},
   "outputs": [],
   "source": [
    "def cond_2_sparse(A):\n",
    "    \"\"\"\n",
    "    Calcula el numero de condicionamiento en norma inducida 2\n",
    "    para una matriz sparse simetrica A.\n",
    "    Se obtiene como el valor propio de mayor módulo dividido por el de menor módulo\n",
    "    \n",
    "    Input:\n",
    "    - A matriz sparse simetrica\n",
    "    \n",
    "    Documentacion de eigsh:\n",
    "    https://docs.scipy.org/doc/scipy-0.15.1/reference/generated/scipy.sparse.linalg.eigsh.html\n",
    "    \"\"\"\n",
    "\n",
    "    \n",
    "    \n",
    "    max = eigsh(A,k=1,which='LM')[0][0]\n",
    "    min = eigsh(A,k=1,which='SM')[0][0]\n",
    "    cond = max/min\n",
    "    return cond"
   ]
  },
  {
   "cell_type": "markdown",
   "metadata": {},
   "source": [
    "# Parte b"
   ]
  },
  {
   "cell_type": "markdown",
   "metadata": {},
   "source": [
    "## Ecuación en Dominios Perforados"
   ]
  },
  {
   "cell_type": "markdown",
   "metadata": {},
   "source": [
    "Para $\\Omega = [0, 1]^2\\backslash B ((0.5, 0.5), 0.3)$, considere:\n",
    "$$\n",
    "\\left(  P \\right)  \\left\\{\n",
    "\\begin{array}\n",
    "[c]{ccc}\n",
    "-\\Delta u(x,y)=&0,  & \\text{si }(x,y)\\text{ en }\\Omega \\\\\n",
    "u(x,y)=&g(x,y), & \\text{si} (x,y)\\text{ en }\\partial\\Omega\n",
    "\\end{array}\n",
    "\\right.\n",
    "$$\n",
    "\n",
    "y $g$ dada por:\n",
    "\n",
    "$$\n",
    "g\\left(  x,y\\right)  =\\left\\{\n",
    "\\begin{array}\n",
    "[c]{cc}\n",
    "2  & \\text{si }(x,y) \\in \\partial [0,1]^2 \\\\\n",
    "0  & \\text{si }(x,y) \\in \\partial B ((0.5, 0.5), 0.3)\n",
    "\\end{array}\n",
    "\\right.\n",
    "$$\n",
    "\n",
    "\n",
    "\n",
    "\n"
   ]
  },
  {
   "cell_type": "markdown",
   "metadata": {},
   "source": [
    "**P1.** Genere una función que reciba un punto de la malla $(x_j , y_k)$ y entregue como resultado $1$ si es un\n",
    "punto interior al cual se le puede calcular $\\Delta u$ con la aproximación utilizada en la fórmula de $5$ puntos."
   ]
  },
  {
   "cell_type": "code",
   "execution_count": 158,
   "metadata": {},
   "outputs": [],
   "source": [
    "def can(x, y, N):\n",
    "    def isin(x, y):\n",
    "        if 0<=x<=1 and 0<=y<=1:\n",
    "            return np.linalg.norm((x-0.5, y-0.5), ord=2)>=0.3\n",
    "        return False\n",
    "    h = 1/(N+1)\n",
    "    neighbours_x = [(x+h*(-1)**i, y) for i in range(2)]\n",
    "    neighbours_y = [(x, y+h*(-1)**i) for i in range(2)]\n",
    "    return all([isin(*n) for n in neighbours_x]), all([isin(*n) for n in neighbours_y])"
   ]
  },
  {
   "cell_type": "code",
   "execution_count": 169,
   "metadata": {},
   "outputs": [
    {
     "data": {
      "image/png": "[encoded data removed]",
      "text/plain": [
       "<Figure size 432x288 with 1 Axes>"
      ]
     },
     "metadata": {},
     "output_type": "display_data"
    }
   ],
   "source": [
    "N = 20\n",
    "im = np.zeros((N+2, N+2))\n",
    "for i in range(N+2):\n",
    "    for j in range(N+2): \n",
    "        x, y = i/(N+1), j/(N+1)\n",
    "        cc = can(x, y, N)\n",
    "#         print((x, y), cc)\n",
    "        im[i, j] = all(cc)\n",
    "        im[i, j] += 5*int(np.linalg.norm((x-0.5, y-0.5), ord=2)<0.3)\n",
    "#         im[i, j] += 10*cc[1]\n",
    "plt.imshow(im.T)#,origin='lower')\n",
    "plt.xticks([])\n",
    "plt.yticks([]);"
   ]
  },
  {
   "cell_type": "markdown",
   "metadata": {},
   "source": [
    "**P2.** Asuma que la matriz del sistema es de la forma $A = A_x + A_y$, donde $A_x$ tiene los coeficientes adecuados\n",
    "para la aproximación de la derivada parcial según $x$ y lo equivalente para $A_y$. Encuentre la forma\n",
    "que deben tener $A_x$ y $A_y$ y escriba un programa que calcule dichas matrices."
   ]
  },
  {
   "cell_type": "code",
   "execution_count": 224,
   "metadata": {},
   "outputs": [],
   "source": [
    "def Ahx(N):\n",
    "    Ax = np.zeros((N**2, N**2))\n",
    "    h = 1/(N+1)\n",
    "    for n in range(N**2):\n",
    "        i, j = n%N, n//N\n",
    "        x, y = (i+1)*h, (j+1)*h\n",
    "        if np.linalg.norm((x-0.5, y-0.5), ord=2)>=0.3:\n",
    "            canx, _ = can(x, y, N)\n",
    "            if canx:\n",
    "                Ax[n, n] = 2\n",
    "                if i>0:\n",
    "                    Ax[n, n-1] = -1\n",
    "                if i<N-1:\n",
    "                    Ax[n, n+1] = -1\n",
    "            else:\n",
    "                if x < 0.5:  \n",
    "                    k = abs(0.5+np.sqrt(0.3**2 - (y-0.5)**2)-x) \n",
    "                    Ax[n, n] = -2/(h*k)     \n",
    "                    if i>0:\n",
    "                        Ax[n, n-1] = 2/(h*(h+k))\n",
    "                else:\n",
    "                    k = abs(0.5-np.sqrt(0.3**2 - (y-0.5)**2)-x) \n",
    "                    Ax[n, n] = -2/(h*k)    \n",
    "                    if i<N-1:\n",
    "                        Ax[n, n+1] = 2/(h*(h+k))\n",
    "    return Ax/(h**2)\n",
    "\n",
    "def Ahy(N):\n",
    "    Ay = np.zeros((N**2, N**2))\n",
    "    h = 1/(N+1)\n",
    "    for n in range(N**2):\n",
    "        i, j = n%N, n//N\n",
    "        x, y = (i+1)*h, (j+1)*h\n",
    "        if np.linalg.norm((x-0.5, y-0.5), ord=2)>=0.3:\n",
    "            _, cany = can(x, y, N)\n",
    "            if cany:\n",
    "                Ay[n, n] = 2\n",
    "                if j>0:\n",
    "                    Ay[n, n-N] = -1\n",
    "                if j<N-1:\n",
    "                    Ay[n, n+N] = -1\n",
    "            else:\n",
    "                if y < 0.5:  \n",
    "                    k = abs(0.5+np.sqrt(0.3**2 - (x-0.5)**2)-y) \n",
    "                    Ay[n, n] = -2/(h*k)     \n",
    "                    if j>0:\n",
    "                        Ay[n, n-1] = 2/(h*(h+k))\n",
    "                else:\n",
    "                    k = abs(0.5-np.sqrt(0.3**2 - (x-0.5)**2)-y) \n",
    "                    Ay[n, n] = -2/(h*k)    \n",
    "                    if j<N-1:\n",
    "                        Ay[n, n+1] = 2/(h*(h+k))\n",
    "    return Ay/(h**2)"
   ]
  },
  {
   "cell_type": "code",
   "execution_count": 229,
   "metadata": {},
   "outputs": [],
   "source": [
    "import pandas as pd\n",
    "import seaborn as sns"
   ]
  },
  {
   "cell_type": "code",
   "execution_count": 231,
   "metadata": {},
   "outputs": [
    {
     "data": {
      "text/plain": [
       "<AxesSubplot:>"
      ]
     },
     "execution_count": 231,
     "metadata": {},
     "output_type": "execute_result"
    },
    {
     "data": {
      "image/png": "[encoded data removed]",
      "text/plain": [
       "<Figure size 432x288 with 2 Axes>"
      ]
     },
     "metadata": {
      "needs_background": "light"
     },
     "output_type": "display_data"
    }
   ],
   "source": [
    "N = 9\n",
    "sns.heatmap(pd.DataFrame(Ahx(N)+Ahy(N)))"
   ]
  },
  {
   "cell_type": "markdown",
   "metadata": {},
   "source": [
    "**P3.** Escriba una función que calcule $b_h$ adaptado a este caso."
   ]
  },
  {
   "cell_type": "code",
   "execution_count": 18,
   "metadata": {},
   "outputs": [],
   "source": [
    "def bh(N):\n",
    "    \n",
    "    \n",
    "    return b\n",
    "\n",
    "def solve2(N):\n",
    "    \n",
    "    return "
   ]
  },
  {
   "cell_type": "markdown",
   "metadata": {},
   "source": [
    "**P4.** Resuelva el sistema y grafique la solución aproximada para $N = 10, 20, 30, 40, 50$. Comente sus resultados."
   ]
  },
  {
   "cell_type": "code",
   "execution_count": null,
   "metadata": {},
   "outputs": [],
   "source": []
  },
  {
   "cell_type": "markdown",
   "metadata": {},
   "source": [
    "**P5.** ¿Qué sucede con el condicionamiento de la matriz utilizando la fórmula de la Parte a?¿Cómo adaptaría su código para el caso $f\\neq 0$?"
   ]
  },
  {
   "cell_type": "code",
   "execution_count": null,
   "metadata": {},
   "outputs": [],
   "source": []
  }
 ],
 "metadata": {
  "kernelspec": {
   "display_name": "Python 3 (ipykernel)",
   "language": "python",
   "name": "python3"
  },
  "language_info": {
   "codemirror_mode": {
    "name": "ipython",
    "version": 3
   },
   "file_extension": ".py",
   "mimetype": "text/x-python",
   "name": "python",
   "nbconvert_exporter": "python",
   "pygments_lexer": "ipython3",
   "version": "3.8.5"
  }
 },
 "nbformat": 4,
 "nbformat_minor": 4
}
